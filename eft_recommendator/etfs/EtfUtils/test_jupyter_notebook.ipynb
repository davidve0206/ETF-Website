{
 "cells": [
  {
   "cell_type": "markdown",
   "metadata": {},
   "source": [
    "This is the jupyter notebook I used to analyse the stock information before turning the code into modules"
   ]
  },
  {
   "cell_type": "code",
   "execution_count": 2,
   "metadata": {},
   "outputs": [],
   "source": [
    "import numpy as np # linear algebra\n",
    "import pandas as pd # data processing, CSV file I/O (e.g. pd.read_csv)\n",
    "import yahoo_fin.stock_info as si\n",
    "import plotly.express as px\n",
    "import tickers\n",
    "from datetime import date\n"
   ]
  },
  {
   "cell_type": "code",
   "execution_count": 3,
   "metadata": {},
   "outputs": [],
   "source": [
    "ticker_set = tickers.get_tickers()"
   ]
  },
  {
   "cell_type": "code",
   "execution_count": 4,
   "metadata": {},
   "outputs": [
    {
     "data": {
      "text/plain": [
       "DatetimeIndex(['2013-01-01', '2013-01-02', '2013-01-03', '2013-01-04',\n",
       "               '2013-01-07', '2013-01-08', '2013-01-09', '2013-01-10',\n",
       "               '2013-01-11', '2013-01-14',\n",
       "               ...\n",
       "               '2023-08-30', '2023-08-31', '2023-09-01', '2023-09-04',\n",
       "               '2023-09-05', '2023-09-06', '2023-09-07', '2023-09-08',\n",
       "               '2023-09-11', '2023-09-12'],\n",
       "              dtype='datetime64[ns]', length=2791, freq='B')"
      ]
     },
     "execution_count": 4,
     "metadata": {},
     "output_type": "execute_result"
    }
   ],
   "source": [
    "end_date = date.today()\n",
    "start_date = date(end_date.year - 10, 1 , 1)\n",
    "date_range = pd.bdate_range(start_date, end_date)\n",
    "date_range"
   ]
  },
  {
   "cell_type": "code",
   "execution_count": 5,
   "metadata": {},
   "outputs": [
    {
     "data": {
      "text/html": [
       "<div>\n",
       "<style scoped>\n",
       "    .dataframe tbody tr th:only-of-type {\n",
       "        vertical-align: middle;\n",
       "    }\n",
       "\n",
       "    .dataframe tbody tr th {\n",
       "        vertical-align: top;\n",
       "    }\n",
       "\n",
       "    .dataframe thead th {\n",
       "        text-align: right;\n",
       "    }\n",
       "</style>\n",
       "<table border=\"1\" class=\"dataframe\">\n",
       "  <thead>\n",
       "    <tr style=\"text-align: right;\">\n",
       "      <th></th>\n",
       "      <th>date</th>\n",
       "    </tr>\n",
       "  </thead>\n",
       "  <tbody>\n",
       "    <tr>\n",
       "      <th>0</th>\n",
       "      <td>2013-01-01</td>\n",
       "    </tr>\n",
       "    <tr>\n",
       "      <th>1</th>\n",
       "      <td>2013-01-02</td>\n",
       "    </tr>\n",
       "    <tr>\n",
       "      <th>2</th>\n",
       "      <td>2013-01-03</td>\n",
       "    </tr>\n",
       "    <tr>\n",
       "      <th>3</th>\n",
       "      <td>2013-01-04</td>\n",
       "    </tr>\n",
       "    <tr>\n",
       "      <th>4</th>\n",
       "      <td>2013-01-07</td>\n",
       "    </tr>\n",
       "  </tbody>\n",
       "</table>\n",
       "</div>"
      ],
      "text/plain": [
       "        date\n",
       "0 2013-01-01\n",
       "1 2013-01-02\n",
       "2 2013-01-03\n",
       "3 2013-01-04\n",
       "4 2013-01-07"
      ]
     },
     "execution_count": 5,
     "metadata": {},
     "output_type": "execute_result"
    }
   ],
   "source": [
    "output_df = pd.DataFrame({\"date\": date_range})\n",
    "output_df.head()"
   ]
  },
  {
   "cell_type": "code",
   "execution_count": 6,
   "metadata": {},
   "outputs": [
    {
     "data": {
      "text/html": [
       "<div>\n",
       "<style scoped>\n",
       "    .dataframe tbody tr th:only-of-type {\n",
       "        vertical-align: middle;\n",
       "    }\n",
       "\n",
       "    .dataframe tbody tr th {\n",
       "        vertical-align: top;\n",
       "    }\n",
       "\n",
       "    .dataframe thead th {\n",
       "        text-align: right;\n",
       "    }\n",
       "</style>\n",
       "<table border=\"1\" class=\"dataframe\">\n",
       "  <thead>\n",
       "    <tr style=\"text-align: right;\">\n",
       "      <th></th>\n",
       "      <th>date</th>\n",
       "      <th>DFAC</th>\n",
       "      <th>VUG</th>\n",
       "      <th>DVY</th>\n",
       "      <th>SPYV</th>\n",
       "      <th>COWZ</th>\n",
       "      <th>BND</th>\n",
       "      <th>MDY</th>\n",
       "      <th>SCHF</th>\n",
       "      <th>VB</th>\n",
       "      <th>...</th>\n",
       "      <th>ACWI</th>\n",
       "      <th>SCHD</th>\n",
       "      <th>SDY</th>\n",
       "      <th>IJH</th>\n",
       "      <th>IWB</th>\n",
       "      <th>XLI</th>\n",
       "      <th>QQQ</th>\n",
       "      <th>XLF</th>\n",
       "      <th>VV</th>\n",
       "      <th>EEM</th>\n",
       "    </tr>\n",
       "  </thead>\n",
       "  <tbody>\n",
       "    <tr>\n",
       "      <th>0</th>\n",
       "      <td>2013-01-01</td>\n",
       "      <td>NaN</td>\n",
       "      <td>NaN</td>\n",
       "      <td>NaN</td>\n",
       "      <td>NaN</td>\n",
       "      <td>NaN</td>\n",
       "      <td>NaN</td>\n",
       "      <td>NaN</td>\n",
       "      <td>NaN</td>\n",
       "      <td>NaN</td>\n",
       "      <td>...</td>\n",
       "      <td>NaN</td>\n",
       "      <td>NaN</td>\n",
       "      <td>NaN</td>\n",
       "      <td>NaN</td>\n",
       "      <td>NaN</td>\n",
       "      <td>NaN</td>\n",
       "      <td>NaN</td>\n",
       "      <td>NaN</td>\n",
       "      <td>NaN</td>\n",
       "      <td>NaN</td>\n",
       "    </tr>\n",
       "    <tr>\n",
       "      <th>1</th>\n",
       "      <td>2013-01-02</td>\n",
       "      <td>NaN</td>\n",
       "      <td>65.341873</td>\n",
       "      <td>40.956379</td>\n",
       "      <td>14.228410</td>\n",
       "      <td>NaN</td>\n",
       "      <td>63.249752</td>\n",
       "      <td>167.349487</td>\n",
       "      <td>20.913151</td>\n",
       "      <td>71.433571</td>\n",
       "      <td>...</td>\n",
       "      <td>39.482594</td>\n",
       "      <td>20.959566</td>\n",
       "      <td>40.860195</td>\n",
       "      <td>89.311424</td>\n",
       "      <td>67.700081</td>\n",
       "      <td>31.814758</td>\n",
       "      <td>61.144405</td>\n",
       "      <td>11.225471</td>\n",
       "      <td>55.234715</td>\n",
       "      <td>36.192566</td>\n",
       "    </tr>\n",
       "    <tr>\n",
       "      <th>2</th>\n",
       "      <td>2013-01-03</td>\n",
       "      <td>NaN</td>\n",
       "      <td>65.153976</td>\n",
       "      <td>40.942387</td>\n",
       "      <td>14.268972</td>\n",
       "      <td>NaN</td>\n",
       "      <td>63.061295</td>\n",
       "      <td>167.226715</td>\n",
       "      <td>20.700449</td>\n",
       "      <td>71.390633</td>\n",
       "      <td>...</td>\n",
       "      <td>39.313522</td>\n",
       "      <td>20.945089</td>\n",
       "      <td>40.887672</td>\n",
       "      <td>89.345589</td>\n",
       "      <td>67.599892</td>\n",
       "      <td>31.831150</td>\n",
       "      <td>60.825935</td>\n",
       "      <td>11.212165</td>\n",
       "      <td>55.143787</td>\n",
       "      <td>35.936451</td>\n",
       "    </tr>\n",
       "    <tr>\n",
       "      <th>3</th>\n",
       "      <td>2013-01-04</td>\n",
       "      <td>NaN</td>\n",
       "      <td>65.368668</td>\n",
       "      <td>41.180260</td>\n",
       "      <td>14.301808</td>\n",
       "      <td>NaN</td>\n",
       "      <td>63.159298</td>\n",
       "      <td>168.392899</td>\n",
       "      <td>20.791605</td>\n",
       "      <td>71.931580</td>\n",
       "      <td>...</td>\n",
       "      <td>39.482594</td>\n",
       "      <td>21.053686</td>\n",
       "      <td>41.183163</td>\n",
       "      <td>89.968811</td>\n",
       "      <td>67.958862</td>\n",
       "      <td>32.068882</td>\n",
       "      <td>60.625748</td>\n",
       "      <td>11.345247</td>\n",
       "      <td>55.424835</td>\n",
       "      <td>36.008480</td>\n",
       "    </tr>\n",
       "    <tr>\n",
       "      <th>4</th>\n",
       "      <td>2013-01-07</td>\n",
       "      <td>NaN</td>\n",
       "      <td>65.243454</td>\n",
       "      <td>40.893417</td>\n",
       "      <td>14.272839</td>\n",
       "      <td>NaN</td>\n",
       "      <td>63.114067</td>\n",
       "      <td>167.928162</td>\n",
       "      <td>20.708044</td>\n",
       "      <td>71.716904</td>\n",
       "      <td>...</td>\n",
       "      <td>39.321575</td>\n",
       "      <td>20.981298</td>\n",
       "      <td>40.983871</td>\n",
       "      <td>89.738312</td>\n",
       "      <td>67.733452</td>\n",
       "      <td>31.929523</td>\n",
       "      <td>60.643959</td>\n",
       "      <td>11.318629</td>\n",
       "      <td>55.251247</td>\n",
       "      <td>35.736355</td>\n",
       "    </tr>\n",
       "    <tr>\n",
       "      <th>...</th>\n",
       "      <td>...</td>\n",
       "      <td>...</td>\n",
       "      <td>...</td>\n",
       "      <td>...</td>\n",
       "      <td>...</td>\n",
       "      <td>...</td>\n",
       "      <td>...</td>\n",
       "      <td>...</td>\n",
       "      <td>...</td>\n",
       "      <td>...</td>\n",
       "      <td>...</td>\n",
       "      <td>...</td>\n",
       "      <td>...</td>\n",
       "      <td>...</td>\n",
       "      <td>...</td>\n",
       "      <td>...</td>\n",
       "      <td>...</td>\n",
       "      <td>...</td>\n",
       "      <td>...</td>\n",
       "      <td>...</td>\n",
       "      <td>...</td>\n",
       "    </tr>\n",
       "    <tr>\n",
       "      <th>2786</th>\n",
       "      <td>2023-09-06</td>\n",
       "      <td>27.280001</td>\n",
       "      <td>286.959991</td>\n",
       "      <td>111.629997</td>\n",
       "      <td>43.130001</td>\n",
       "      <td>50.750000</td>\n",
       "      <td>70.739998</td>\n",
       "      <td>475.559998</td>\n",
       "      <td>34.880001</td>\n",
       "      <td>198.279999</td>\n",
       "      <td>...</td>\n",
       "      <td>95.650002</td>\n",
       "      <td>73.430000</td>\n",
       "      <td>120.290001</td>\n",
       "      <td>260.079987</td>\n",
       "      <td>245.600006</td>\n",
       "      <td>106.510002</td>\n",
       "      <td>374.739990</td>\n",
       "      <td>34.320000</td>\n",
       "      <td>204.449997</td>\n",
       "      <td>39.090000</td>\n",
       "    </tr>\n",
       "    <tr>\n",
       "      <th>2787</th>\n",
       "      <td>2023-09-07</td>\n",
       "      <td>27.150000</td>\n",
       "      <td>285.450012</td>\n",
       "      <td>111.389999</td>\n",
       "      <td>43.060001</td>\n",
       "      <td>50.570000</td>\n",
       "      <td>70.980003</td>\n",
       "      <td>471.480011</td>\n",
       "      <td>34.779999</td>\n",
       "      <td>196.699997</td>\n",
       "      <td>...</td>\n",
       "      <td>95.290001</td>\n",
       "      <td>73.379997</td>\n",
       "      <td>120.239998</td>\n",
       "      <td>257.630005</td>\n",
       "      <td>244.839996</td>\n",
       "      <td>106.160004</td>\n",
       "      <td>372.059998</td>\n",
       "      <td>34.230000</td>\n",
       "      <td>203.880005</td>\n",
       "      <td>38.630001</td>\n",
       "    </tr>\n",
       "    <tr>\n",
       "      <th>2788</th>\n",
       "      <td>2023-09-08</td>\n",
       "      <td>27.170000</td>\n",
       "      <td>285.649994</td>\n",
       "      <td>112.250000</td>\n",
       "      <td>43.119999</td>\n",
       "      <td>51.000000</td>\n",
       "      <td>71.000000</td>\n",
       "      <td>471.089996</td>\n",
       "      <td>34.709999</td>\n",
       "      <td>196.259995</td>\n",
       "      <td>...</td>\n",
       "      <td>95.330002</td>\n",
       "      <td>73.669998</td>\n",
       "      <td>120.339996</td>\n",
       "      <td>257.390015</td>\n",
       "      <td>245.190002</td>\n",
       "      <td>105.629997</td>\n",
       "      <td>372.579987</td>\n",
       "      <td>34.299999</td>\n",
       "      <td>204.179993</td>\n",
       "      <td>38.709999</td>\n",
       "    </tr>\n",
       "    <tr>\n",
       "      <th>2789</th>\n",
       "      <td>2023-09-11</td>\n",
       "      <td>27.290001</td>\n",
       "      <td>288.799988</td>\n",
       "      <td>112.379997</td>\n",
       "      <td>43.410000</td>\n",
       "      <td>50.759998</td>\n",
       "      <td>70.889999</td>\n",
       "      <td>471.549988</td>\n",
       "      <td>35.099998</td>\n",
       "      <td>196.589996</td>\n",
       "      <td>...</td>\n",
       "      <td>96.150002</td>\n",
       "      <td>73.779999</td>\n",
       "      <td>120.620003</td>\n",
       "      <td>257.790009</td>\n",
       "      <td>246.880005</td>\n",
       "      <td>105.660004</td>\n",
       "      <td>376.970001</td>\n",
       "      <td>34.459999</td>\n",
       "      <td>205.690002</td>\n",
       "      <td>39.189999</td>\n",
       "    </tr>\n",
       "    <tr>\n",
       "      <th>2790</th>\n",
       "      <td>2023-09-12</td>\n",
       "      <td>NaN</td>\n",
       "      <td>NaN</td>\n",
       "      <td>NaN</td>\n",
       "      <td>NaN</td>\n",
       "      <td>NaN</td>\n",
       "      <td>NaN</td>\n",
       "      <td>NaN</td>\n",
       "      <td>NaN</td>\n",
       "      <td>NaN</td>\n",
       "      <td>...</td>\n",
       "      <td>NaN</td>\n",
       "      <td>NaN</td>\n",
       "      <td>NaN</td>\n",
       "      <td>NaN</td>\n",
       "      <td>NaN</td>\n",
       "      <td>NaN</td>\n",
       "      <td>NaN</td>\n",
       "      <td>NaN</td>\n",
       "      <td>NaN</td>\n",
       "      <td>NaN</td>\n",
       "    </tr>\n",
       "  </tbody>\n",
       "</table>\n",
       "<p>2791 rows × 101 columns</p>\n",
       "</div>"
      ],
      "text/plain": [
       "           date       DFAC         VUG         DVY       SPYV       COWZ  \\\n",
       "0    2013-01-01        NaN         NaN         NaN        NaN        NaN   \n",
       "1    2013-01-02        NaN   65.341873   40.956379  14.228410        NaN   \n",
       "2    2013-01-03        NaN   65.153976   40.942387  14.268972        NaN   \n",
       "3    2013-01-04        NaN   65.368668   41.180260  14.301808        NaN   \n",
       "4    2013-01-07        NaN   65.243454   40.893417  14.272839        NaN   \n",
       "...         ...        ...         ...         ...        ...        ...   \n",
       "2786 2023-09-06  27.280001  286.959991  111.629997  43.130001  50.750000   \n",
       "2787 2023-09-07  27.150000  285.450012  111.389999  43.060001  50.570000   \n",
       "2788 2023-09-08  27.170000  285.649994  112.250000  43.119999  51.000000   \n",
       "2789 2023-09-11  27.290001  288.799988  112.379997  43.410000  50.759998   \n",
       "2790 2023-09-12        NaN         NaN         NaN        NaN        NaN   \n",
       "\n",
       "            BND         MDY       SCHF          VB  ...       ACWI       SCHD  \\\n",
       "0           NaN         NaN        NaN         NaN  ...        NaN        NaN   \n",
       "1     63.249752  167.349487  20.913151   71.433571  ...  39.482594  20.959566   \n",
       "2     63.061295  167.226715  20.700449   71.390633  ...  39.313522  20.945089   \n",
       "3     63.159298  168.392899  20.791605   71.931580  ...  39.482594  21.053686   \n",
       "4     63.114067  167.928162  20.708044   71.716904  ...  39.321575  20.981298   \n",
       "...         ...         ...        ...         ...  ...        ...        ...   \n",
       "2786  70.739998  475.559998  34.880001  198.279999  ...  95.650002  73.430000   \n",
       "2787  70.980003  471.480011  34.779999  196.699997  ...  95.290001  73.379997   \n",
       "2788  71.000000  471.089996  34.709999  196.259995  ...  95.330002  73.669998   \n",
       "2789  70.889999  471.549988  35.099998  196.589996  ...  96.150002  73.779999   \n",
       "2790        NaN         NaN        NaN         NaN  ...        NaN        NaN   \n",
       "\n",
       "             SDY         IJH         IWB         XLI         QQQ        XLF  \\\n",
       "0            NaN         NaN         NaN         NaN         NaN        NaN   \n",
       "1      40.860195   89.311424   67.700081   31.814758   61.144405  11.225471   \n",
       "2      40.887672   89.345589   67.599892   31.831150   60.825935  11.212165   \n",
       "3      41.183163   89.968811   67.958862   32.068882   60.625748  11.345247   \n",
       "4      40.983871   89.738312   67.733452   31.929523   60.643959  11.318629   \n",
       "...          ...         ...         ...         ...         ...        ...   \n",
       "2786  120.290001  260.079987  245.600006  106.510002  374.739990  34.320000   \n",
       "2787  120.239998  257.630005  244.839996  106.160004  372.059998  34.230000   \n",
       "2788  120.339996  257.390015  245.190002  105.629997  372.579987  34.299999   \n",
       "2789  120.620003  257.790009  246.880005  105.660004  376.970001  34.459999   \n",
       "2790         NaN         NaN         NaN         NaN         NaN        NaN   \n",
       "\n",
       "              VV        EEM  \n",
       "0            NaN        NaN  \n",
       "1      55.234715  36.192566  \n",
       "2      55.143787  35.936451  \n",
       "3      55.424835  36.008480  \n",
       "4      55.251247  35.736355  \n",
       "...          ...        ...  \n",
       "2786  204.449997  39.090000  \n",
       "2787  203.880005  38.630001  \n",
       "2788  204.179993  38.709999  \n",
       "2789  205.690002  39.189999  \n",
       "2790         NaN        NaN  \n",
       "\n",
       "[2791 rows x 101 columns]"
      ]
     },
     "execution_count": 6,
     "metadata": {},
     "output_type": "execute_result"
    }
   ],
   "source": [
    "for ticker in ticker_set:\n",
    "    stock_data = si.get_data(ticker, start_date=start_date, end_date=end_date)\n",
    "    stock_data.rename(columns={\"adjclose\":ticker}, inplace=True)\n",
    "    output_df = output_df.merge(stock_data.loc[:,ticker], how=\"left\", left_on=\"date\", right_index=True)\n",
    "    #output_df = output_df.set_index(\"date\")\n",
    "output_df"
   ]
  },
  {
   "cell_type": "code",
   "execution_count": null,
   "metadata": {},
   "outputs": [
    {
     "data": {
      "text/html": [
       "<div>\n",
       "<style scoped>\n",
       "    .dataframe tbody tr th:only-of-type {\n",
       "        vertical-align: middle;\n",
       "    }\n",
       "\n",
       "    .dataframe tbody tr th {\n",
       "        vertical-align: top;\n",
       "    }\n",
       "\n",
       "    .dataframe thead th {\n",
       "        text-align: right;\n",
       "    }\n",
       "</style>\n",
       "<table border=\"1\" class=\"dataframe\">\n",
       "  <thead>\n",
       "    <tr style=\"text-align: right;\">\n",
       "      <th></th>\n",
       "      <th>SCHX</th>\n",
       "      <th>JEPI</th>\n",
       "      <th>VV</th>\n",
       "      <th>XLV</th>\n",
       "      <th>DVY</th>\n",
       "      <th>MGK</th>\n",
       "      <th>VNQ</th>\n",
       "      <th>DFAC</th>\n",
       "      <th>IVV</th>\n",
       "      <th>DGRO</th>\n",
       "      <th>...</th>\n",
       "      <th>SHV</th>\n",
       "      <th>IWF</th>\n",
       "      <th>VWO</th>\n",
       "      <th>USMV</th>\n",
       "      <th>AGG</th>\n",
       "      <th>SPYG</th>\n",
       "      <th>VXUS</th>\n",
       "      <th>XLU</th>\n",
       "      <th>IWB</th>\n",
       "      <th>XLF</th>\n",
       "    </tr>\n",
       "    <tr>\n",
       "      <th>date</th>\n",
       "      <th></th>\n",
       "      <th></th>\n",
       "      <th></th>\n",
       "      <th></th>\n",
       "      <th></th>\n",
       "      <th></th>\n",
       "      <th></th>\n",
       "      <th></th>\n",
       "      <th></th>\n",
       "      <th></th>\n",
       "      <th></th>\n",
       "      <th></th>\n",
       "      <th></th>\n",
       "      <th></th>\n",
       "      <th></th>\n",
       "      <th></th>\n",
       "      <th></th>\n",
       "      <th></th>\n",
       "      <th></th>\n",
       "      <th></th>\n",
       "      <th></th>\n",
       "    </tr>\n",
       "  </thead>\n",
       "  <tbody>\n",
       "    <tr>\n",
       "      <th>2013-01-01</th>\n",
       "      <td>NaN</td>\n",
       "      <td>NaN</td>\n",
       "      <td>NaN</td>\n",
       "      <td>NaN</td>\n",
       "      <td>NaN</td>\n",
       "      <td>NaN</td>\n",
       "      <td>NaN</td>\n",
       "      <td>NaN</td>\n",
       "      <td>NaN</td>\n",
       "      <td>NaN</td>\n",
       "      <td>...</td>\n",
       "      <td>NaN</td>\n",
       "      <td>NaN</td>\n",
       "      <td>NaN</td>\n",
       "      <td>NaN</td>\n",
       "      <td>NaN</td>\n",
       "      <td>NaN</td>\n",
       "      <td>NaN</td>\n",
       "      <td>NaN</td>\n",
       "      <td>NaN</td>\n",
       "      <td>NaN</td>\n",
       "    </tr>\n",
       "    <tr>\n",
       "      <th>2013-01-02</th>\n",
       "      <td>14.425716</td>\n",
       "      <td>NaN</td>\n",
       "      <td>55.234707</td>\n",
       "      <td>34.300636</td>\n",
       "      <td>40.956379</td>\n",
       "      <td>51.071178</td>\n",
       "      <td>43.861359</td>\n",
       "      <td>NaN</td>\n",
       "      <td>120.875412</td>\n",
       "      <td>NaN</td>\n",
       "      <td>...</td>\n",
       "      <td>99.698402</td>\n",
       "      <td>59.757126</td>\n",
       "      <td>34.057606</td>\n",
       "      <td>24.168432</td>\n",
       "      <td>85.776161</td>\n",
       "      <td>14.608779</td>\n",
       "      <td>35.189270</td>\n",
       "      <td>25.004730</td>\n",
       "      <td>67.700081</td>\n",
       "      <td>11.225475</td>\n",
       "    </tr>\n",
       "    <tr>\n",
       "      <th>2013-01-03</th>\n",
       "      <td>14.396660</td>\n",
       "      <td>NaN</td>\n",
       "      <td>55.143787</td>\n",
       "      <td>34.342815</td>\n",
       "      <td>40.942398</td>\n",
       "      <td>50.981380</td>\n",
       "      <td>43.854782</td>\n",
       "      <td>NaN</td>\n",
       "      <td>120.718727</td>\n",
       "      <td>NaN</td>\n",
       "      <td>...</td>\n",
       "      <td>99.698402</td>\n",
       "      <td>59.597042</td>\n",
       "      <td>33.855362</td>\n",
       "      <td>24.201056</td>\n",
       "      <td>85.559715</td>\n",
       "      <td>14.558809</td>\n",
       "      <td>34.894741</td>\n",
       "      <td>25.004730</td>\n",
       "      <td>67.599922</td>\n",
       "      <td>11.212164</td>\n",
       "    </tr>\n",
       "    <tr>\n",
       "      <th>2013-01-04</th>\n",
       "      <td>14.471377</td>\n",
       "      <td>NaN</td>\n",
       "      <td>55.424835</td>\n",
       "      <td>34.494633</td>\n",
       "      <td>41.180264</td>\n",
       "      <td>51.080173</td>\n",
       "      <td>44.058880</td>\n",
       "      <td>NaN</td>\n",
       "      <td>121.312263</td>\n",
       "      <td>NaN</td>\n",
       "      <td>...</td>\n",
       "      <td>99.698402</td>\n",
       "      <td>59.703762</td>\n",
       "      <td>33.915279</td>\n",
       "      <td>24.339722</td>\n",
       "      <td>85.652504</td>\n",
       "      <td>14.602262</td>\n",
       "      <td>35.005199</td>\n",
       "      <td>25.131300</td>\n",
       "      <td>67.958855</td>\n",
       "      <td>11.345243</td>\n",
       "    </tr>\n",
       "    <tr>\n",
       "      <th>2013-01-07</th>\n",
       "      <td>14.434022</td>\n",
       "      <td>NaN</td>\n",
       "      <td>55.251228</td>\n",
       "      <td>34.604271</td>\n",
       "      <td>40.893414</td>\n",
       "      <td>50.963421</td>\n",
       "      <td>44.157642</td>\n",
       "      <td>NaN</td>\n",
       "      <td>120.933060</td>\n",
       "      <td>NaN</td>\n",
       "      <td>...</td>\n",
       "      <td>99.689369</td>\n",
       "      <td>59.632641</td>\n",
       "      <td>33.623165</td>\n",
       "      <td>24.241838</td>\n",
       "      <td>85.606064</td>\n",
       "      <td>14.569674</td>\n",
       "      <td>34.857925</td>\n",
       "      <td>24.885189</td>\n",
       "      <td>67.733467</td>\n",
       "      <td>11.318631</td>\n",
       "    </tr>\n",
       "    <tr>\n",
       "      <th>...</th>\n",
       "      <td>...</td>\n",
       "      <td>...</td>\n",
       "      <td>...</td>\n",
       "      <td>...</td>\n",
       "      <td>...</td>\n",
       "      <td>...</td>\n",
       "      <td>...</td>\n",
       "      <td>...</td>\n",
       "      <td>...</td>\n",
       "      <td>...</td>\n",
       "      <td>...</td>\n",
       "      <td>...</td>\n",
       "      <td>...</td>\n",
       "      <td>...</td>\n",
       "      <td>...</td>\n",
       "      <td>...</td>\n",
       "      <td>...</td>\n",
       "      <td>...</td>\n",
       "      <td>...</td>\n",
       "      <td>...</td>\n",
       "      <td>...</td>\n",
       "    </tr>\n",
       "    <tr>\n",
       "      <th>2023-09-04</th>\n",
       "      <td>NaN</td>\n",
       "      <td>NaN</td>\n",
       "      <td>NaN</td>\n",
       "      <td>NaN</td>\n",
       "      <td>NaN</td>\n",
       "      <td>NaN</td>\n",
       "      <td>NaN</td>\n",
       "      <td>NaN</td>\n",
       "      <td>NaN</td>\n",
       "      <td>NaN</td>\n",
       "      <td>...</td>\n",
       "      <td>NaN</td>\n",
       "      <td>NaN</td>\n",
       "      <td>NaN</td>\n",
       "      <td>NaN</td>\n",
       "      <td>NaN</td>\n",
       "      <td>NaN</td>\n",
       "      <td>NaN</td>\n",
       "      <td>NaN</td>\n",
       "      <td>NaN</td>\n",
       "      <td>NaN</td>\n",
       "    </tr>\n",
       "    <tr>\n",
       "      <th>2023-09-05</th>\n",
       "      <td>53.180000</td>\n",
       "      <td>55.060001</td>\n",
       "      <td>205.830002</td>\n",
       "      <td>132.190002</td>\n",
       "      <td>112.160004</td>\n",
       "      <td>241.940002</td>\n",
       "      <td>81.559998</td>\n",
       "      <td>27.440001</td>\n",
       "      <td>451.700012</td>\n",
       "      <td>51.680000</td>\n",
       "      <td>...</td>\n",
       "      <td>110.070000</td>\n",
       "      <td>282.220001</td>\n",
       "      <td>40.730000</td>\n",
       "      <td>74.500000</td>\n",
       "      <td>95.519997</td>\n",
       "      <td>62.500000</td>\n",
       "      <td>55.450001</td>\n",
       "      <td>61.680000</td>\n",
       "      <td>247.220001</td>\n",
       "      <td>34.340000</td>\n",
       "    </tr>\n",
       "    <tr>\n",
       "      <th>2023-09-06</th>\n",
       "      <td>52.790001</td>\n",
       "      <td>55.060001</td>\n",
       "      <td>204.449997</td>\n",
       "      <td>131.470001</td>\n",
       "      <td>111.629997</td>\n",
       "      <td>239.149994</td>\n",
       "      <td>81.389999</td>\n",
       "      <td>27.280001</td>\n",
       "      <td>448.559998</td>\n",
       "      <td>51.389999</td>\n",
       "      <td>...</td>\n",
       "      <td>110.089996</td>\n",
       "      <td>279.339996</td>\n",
       "      <td>40.540001</td>\n",
       "      <td>74.250000</td>\n",
       "      <td>95.430000</td>\n",
       "      <td>61.869999</td>\n",
       "      <td>55.259998</td>\n",
       "      <td>61.820000</td>\n",
       "      <td>245.600006</td>\n",
       "      <td>34.320000</td>\n",
       "    </tr>\n",
       "    <tr>\n",
       "      <th>2023-09-07</th>\n",
       "      <td>52.660000</td>\n",
       "      <td>55.139999</td>\n",
       "      <td>203.880005</td>\n",
       "      <td>132.059998</td>\n",
       "      <td>111.389999</td>\n",
       "      <td>237.899994</td>\n",
       "      <td>81.900002</td>\n",
       "      <td>27.150000</td>\n",
       "      <td>447.320007</td>\n",
       "      <td>51.330002</td>\n",
       "      <td>...</td>\n",
       "      <td>110.150002</td>\n",
       "      <td>278.290009</td>\n",
       "      <td>40.119999</td>\n",
       "      <td>74.510002</td>\n",
       "      <td>95.730003</td>\n",
       "      <td>61.590000</td>\n",
       "      <td>54.950001</td>\n",
       "      <td>62.630001</td>\n",
       "      <td>244.839996</td>\n",
       "      <td>34.230000</td>\n",
       "    </tr>\n",
       "    <tr>\n",
       "      <th>2023-09-08</th>\n",
       "      <td>52.730000</td>\n",
       "      <td>55.180000</td>\n",
       "      <td>204.179993</td>\n",
       "      <td>132.059998</td>\n",
       "      <td>112.250000</td>\n",
       "      <td>238.500000</td>\n",
       "      <td>81.580002</td>\n",
       "      <td>27.170000</td>\n",
       "      <td>447.869995</td>\n",
       "      <td>51.520000</td>\n",
       "      <td>...</td>\n",
       "      <td>110.160004</td>\n",
       "      <td>278.420013</td>\n",
       "      <td>40.200001</td>\n",
       "      <td>74.730003</td>\n",
       "      <td>95.779999</td>\n",
       "      <td>61.680000</td>\n",
       "      <td>54.919998</td>\n",
       "      <td>63.180000</td>\n",
       "      <td>245.190002</td>\n",
       "      <td>34.299999</td>\n",
       "    </tr>\n",
       "  </tbody>\n",
       "</table>\n",
       "<p>2789 rows × 100 columns</p>\n",
       "</div>"
      ],
      "text/plain": [
       "                 SCHX       JEPI          VV         XLV         DVY  \\\n",
       "date                                                                   \n",
       "2013-01-01        NaN        NaN         NaN         NaN         NaN   \n",
       "2013-01-02  14.425716        NaN   55.234707   34.300636   40.956379   \n",
       "2013-01-03  14.396660        NaN   55.143787   34.342815   40.942398   \n",
       "2013-01-04  14.471377        NaN   55.424835   34.494633   41.180264   \n",
       "2013-01-07  14.434022        NaN   55.251228   34.604271   40.893414   \n",
       "...               ...        ...         ...         ...         ...   \n",
       "2023-09-04        NaN        NaN         NaN         NaN         NaN   \n",
       "2023-09-05  53.180000  55.060001  205.830002  132.190002  112.160004   \n",
       "2023-09-06  52.790001  55.060001  204.449997  131.470001  111.629997   \n",
       "2023-09-07  52.660000  55.139999  203.880005  132.059998  111.389999   \n",
       "2023-09-08  52.730000  55.180000  204.179993  132.059998  112.250000   \n",
       "\n",
       "                   MGK        VNQ       DFAC         IVV       DGRO  ...  \\\n",
       "date                                                                 ...   \n",
       "2013-01-01         NaN        NaN        NaN         NaN        NaN  ...   \n",
       "2013-01-02   51.071178  43.861359        NaN  120.875412        NaN  ...   \n",
       "2013-01-03   50.981380  43.854782        NaN  120.718727        NaN  ...   \n",
       "2013-01-04   51.080173  44.058880        NaN  121.312263        NaN  ...   \n",
       "2013-01-07   50.963421  44.157642        NaN  120.933060        NaN  ...   \n",
       "...                ...        ...        ...         ...        ...  ...   \n",
       "2023-09-04         NaN        NaN        NaN         NaN        NaN  ...   \n",
       "2023-09-05  241.940002  81.559998  27.440001  451.700012  51.680000  ...   \n",
       "2023-09-06  239.149994  81.389999  27.280001  448.559998  51.389999  ...   \n",
       "2023-09-07  237.899994  81.900002  27.150000  447.320007  51.330002  ...   \n",
       "2023-09-08  238.500000  81.580002  27.170000  447.869995  51.520000  ...   \n",
       "\n",
       "                   SHV         IWF        VWO       USMV        AGG  \\\n",
       "date                                                                  \n",
       "2013-01-01         NaN         NaN        NaN        NaN        NaN   \n",
       "2013-01-02   99.698402   59.757126  34.057606  24.168432  85.776161   \n",
       "2013-01-03   99.698402   59.597042  33.855362  24.201056  85.559715   \n",
       "2013-01-04   99.698402   59.703762  33.915279  24.339722  85.652504   \n",
       "2013-01-07   99.689369   59.632641  33.623165  24.241838  85.606064   \n",
       "...                ...         ...        ...        ...        ...   \n",
       "2023-09-04         NaN         NaN        NaN        NaN        NaN   \n",
       "2023-09-05  110.070000  282.220001  40.730000  74.500000  95.519997   \n",
       "2023-09-06  110.089996  279.339996  40.540001  74.250000  95.430000   \n",
       "2023-09-07  110.150002  278.290009  40.119999  74.510002  95.730003   \n",
       "2023-09-08  110.160004  278.420013  40.200001  74.730003  95.779999   \n",
       "\n",
       "                 SPYG       VXUS        XLU         IWB        XLF  \n",
       "date                                                                \n",
       "2013-01-01        NaN        NaN        NaN         NaN        NaN  \n",
       "2013-01-02  14.608779  35.189270  25.004730   67.700081  11.225475  \n",
       "2013-01-03  14.558809  34.894741  25.004730   67.599922  11.212164  \n",
       "2013-01-04  14.602262  35.005199  25.131300   67.958855  11.345243  \n",
       "2013-01-07  14.569674  34.857925  24.885189   67.733467  11.318631  \n",
       "...               ...        ...        ...         ...        ...  \n",
       "2023-09-04        NaN        NaN        NaN         NaN        NaN  \n",
       "2023-09-05  62.500000  55.450001  61.680000  247.220001  34.340000  \n",
       "2023-09-06  61.869999  55.259998  61.820000  245.600006  34.320000  \n",
       "2023-09-07  61.590000  54.950001  62.630001  244.839996  34.230000  \n",
       "2023-09-08  61.680000  54.919998  63.180000  245.190002  34.299999  \n",
       "\n",
       "[2789 rows x 100 columns]"
      ]
     },
     "execution_count": 68,
     "metadata": {},
     "output_type": "execute_result"
    }
   ],
   "source": [
    "output_df.set_index(\"date\")"
   ]
  },
  {
   "cell_type": "code",
   "execution_count": 7,
   "metadata": {},
   "outputs": [
    {
     "data": {
      "text/html": [
       "<div>\n",
       "<style scoped>\n",
       "    .dataframe tbody tr th:only-of-type {\n",
       "        vertical-align: middle;\n",
       "    }\n",
       "\n",
       "    .dataframe tbody tr th {\n",
       "        vertical-align: top;\n",
       "    }\n",
       "\n",
       "    .dataframe thead th {\n",
       "        text-align: right;\n",
       "    }\n",
       "</style>\n",
       "<table border=\"1\" class=\"dataframe\">\n",
       "  <thead>\n",
       "    <tr style=\"text-align: right;\">\n",
       "      <th></th>\n",
       "      <th>VUG</th>\n",
       "      <th>DVY</th>\n",
       "      <th>SPYV</th>\n",
       "      <th>BND</th>\n",
       "      <th>MDY</th>\n",
       "      <th>SCHF</th>\n",
       "      <th>VB</th>\n",
       "      <th>VHT</th>\n",
       "      <th>XLK</th>\n",
       "      <th>SCHX</th>\n",
       "      <th>...</th>\n",
       "      <th>ACWI</th>\n",
       "      <th>SCHD</th>\n",
       "      <th>SDY</th>\n",
       "      <th>IJH</th>\n",
       "      <th>IWB</th>\n",
       "      <th>XLI</th>\n",
       "      <th>QQQ</th>\n",
       "      <th>XLF</th>\n",
       "      <th>VV</th>\n",
       "      <th>EEM</th>\n",
       "    </tr>\n",
       "    <tr>\n",
       "      <th>date</th>\n",
       "      <th></th>\n",
       "      <th></th>\n",
       "      <th></th>\n",
       "      <th></th>\n",
       "      <th></th>\n",
       "      <th></th>\n",
       "      <th></th>\n",
       "      <th></th>\n",
       "      <th></th>\n",
       "      <th></th>\n",
       "      <th></th>\n",
       "      <th></th>\n",
       "      <th></th>\n",
       "      <th></th>\n",
       "      <th></th>\n",
       "      <th></th>\n",
       "      <th></th>\n",
       "      <th></th>\n",
       "      <th></th>\n",
       "      <th></th>\n",
       "      <th></th>\n",
       "    </tr>\n",
       "  </thead>\n",
       "  <tbody>\n",
       "    <tr>\n",
       "      <th>2013-01-02</th>\n",
       "      <td>65.341873</td>\n",
       "      <td>40.956379</td>\n",
       "      <td>14.228410</td>\n",
       "      <td>63.249752</td>\n",
       "      <td>167.349487</td>\n",
       "      <td>20.913151</td>\n",
       "      <td>71.433571</td>\n",
       "      <td>64.097969</td>\n",
       "      <td>25.643324</td>\n",
       "      <td>14.425715</td>\n",
       "      <td>...</td>\n",
       "      <td>39.482594</td>\n",
       "      <td>20.959566</td>\n",
       "      <td>40.860195</td>\n",
       "      <td>89.311424</td>\n",
       "      <td>67.700081</td>\n",
       "      <td>31.814758</td>\n",
       "      <td>61.144405</td>\n",
       "      <td>11.225471</td>\n",
       "      <td>55.234715</td>\n",
       "      <td>36.192566</td>\n",
       "    </tr>\n",
       "    <tr>\n",
       "      <th>2013-01-03</th>\n",
       "      <td>65.153976</td>\n",
       "      <td>40.942387</td>\n",
       "      <td>14.268972</td>\n",
       "      <td>63.061295</td>\n",
       "      <td>167.226715</td>\n",
       "      <td>20.700449</td>\n",
       "      <td>71.390633</td>\n",
       "      <td>64.115486</td>\n",
       "      <td>25.479876</td>\n",
       "      <td>14.396654</td>\n",
       "      <td>...</td>\n",
       "      <td>39.313522</td>\n",
       "      <td>20.945089</td>\n",
       "      <td>40.887672</td>\n",
       "      <td>89.345589</td>\n",
       "      <td>67.599892</td>\n",
       "      <td>31.831150</td>\n",
       "      <td>60.825935</td>\n",
       "      <td>11.212165</td>\n",
       "      <td>55.143787</td>\n",
       "      <td>35.936451</td>\n",
       "    </tr>\n",
       "    <tr>\n",
       "      <th>2013-01-04</th>\n",
       "      <td>65.368668</td>\n",
       "      <td>41.180260</td>\n",
       "      <td>14.301808</td>\n",
       "      <td>63.159298</td>\n",
       "      <td>168.392899</td>\n",
       "      <td>20.791605</td>\n",
       "      <td>71.931580</td>\n",
       "      <td>64.474670</td>\n",
       "      <td>25.376646</td>\n",
       "      <td>14.471379</td>\n",
       "      <td>...</td>\n",
       "      <td>39.482594</td>\n",
       "      <td>21.053686</td>\n",
       "      <td>41.183163</td>\n",
       "      <td>89.968811</td>\n",
       "      <td>67.958862</td>\n",
       "      <td>32.068882</td>\n",
       "      <td>60.625748</td>\n",
       "      <td>11.345247</td>\n",
       "      <td>55.424835</td>\n",
       "      <td>36.008480</td>\n",
       "    </tr>\n",
       "    <tr>\n",
       "      <th>2013-01-07</th>\n",
       "      <td>65.243454</td>\n",
       "      <td>40.893417</td>\n",
       "      <td>14.272839</td>\n",
       "      <td>63.114067</td>\n",
       "      <td>167.928162</td>\n",
       "      <td>20.708044</td>\n",
       "      <td>71.716904</td>\n",
       "      <td>64.728714</td>\n",
       "      <td>25.342243</td>\n",
       "      <td>14.434018</td>\n",
       "      <td>...</td>\n",
       "      <td>39.321575</td>\n",
       "      <td>20.981298</td>\n",
       "      <td>40.983871</td>\n",
       "      <td>89.738312</td>\n",
       "      <td>67.733452</td>\n",
       "      <td>31.929523</td>\n",
       "      <td>60.643959</td>\n",
       "      <td>11.318629</td>\n",
       "      <td>55.251247</td>\n",
       "      <td>35.736355</td>\n",
       "    </tr>\n",
       "    <tr>\n",
       "      <th>2013-01-08</th>\n",
       "      <td>65.109253</td>\n",
       "      <td>40.732494</td>\n",
       "      <td>14.207165</td>\n",
       "      <td>63.174339</td>\n",
       "      <td>167.481003</td>\n",
       "      <td>20.556112</td>\n",
       "      <td>71.579514</td>\n",
       "      <td>64.737473</td>\n",
       "      <td>25.247620</td>\n",
       "      <td>14.392502</td>\n",
       "      <td>...</td>\n",
       "      <td>39.128345</td>\n",
       "      <td>20.908897</td>\n",
       "      <td>40.901424</td>\n",
       "      <td>89.482170</td>\n",
       "      <td>67.508087</td>\n",
       "      <td>31.683586</td>\n",
       "      <td>60.525661</td>\n",
       "      <td>11.285361</td>\n",
       "      <td>55.110725</td>\n",
       "      <td>35.416206</td>\n",
       "    </tr>\n",
       "    <tr>\n",
       "      <th>...</th>\n",
       "      <td>...</td>\n",
       "      <td>...</td>\n",
       "      <td>...</td>\n",
       "      <td>...</td>\n",
       "      <td>...</td>\n",
       "      <td>...</td>\n",
       "      <td>...</td>\n",
       "      <td>...</td>\n",
       "      <td>...</td>\n",
       "      <td>...</td>\n",
       "      <td>...</td>\n",
       "      <td>...</td>\n",
       "      <td>...</td>\n",
       "      <td>...</td>\n",
       "      <td>...</td>\n",
       "      <td>...</td>\n",
       "      <td>...</td>\n",
       "      <td>...</td>\n",
       "      <td>...</td>\n",
       "      <td>...</td>\n",
       "      <td>...</td>\n",
       "    </tr>\n",
       "    <tr>\n",
       "      <th>2023-09-05</th>\n",
       "      <td>289.630005</td>\n",
       "      <td>112.160004</td>\n",
       "      <td>43.230000</td>\n",
       "      <td>70.820000</td>\n",
       "      <td>477.079987</td>\n",
       "      <td>35.020000</td>\n",
       "      <td>198.899994</td>\n",
       "      <td>242.830002</td>\n",
       "      <td>176.830002</td>\n",
       "      <td>53.180000</td>\n",
       "      <td>...</td>\n",
       "      <td>96.209999</td>\n",
       "      <td>74.010002</td>\n",
       "      <td>120.790001</td>\n",
       "      <td>260.820007</td>\n",
       "      <td>247.220001</td>\n",
       "      <td>106.970001</td>\n",
       "      <td>378.070007</td>\n",
       "      <td>34.340000</td>\n",
       "      <td>205.830002</td>\n",
       "      <td>39.310001</td>\n",
       "    </tr>\n",
       "    <tr>\n",
       "      <th>2023-09-06</th>\n",
       "      <td>286.959991</td>\n",
       "      <td>111.629997</td>\n",
       "      <td>43.130001</td>\n",
       "      <td>70.739998</td>\n",
       "      <td>475.559998</td>\n",
       "      <td>34.880001</td>\n",
       "      <td>198.279999</td>\n",
       "      <td>241.460007</td>\n",
       "      <td>174.960007</td>\n",
       "      <td>52.790001</td>\n",
       "      <td>...</td>\n",
       "      <td>95.650002</td>\n",
       "      <td>73.430000</td>\n",
       "      <td>120.290001</td>\n",
       "      <td>260.079987</td>\n",
       "      <td>245.600006</td>\n",
       "      <td>106.510002</td>\n",
       "      <td>374.739990</td>\n",
       "      <td>34.320000</td>\n",
       "      <td>204.449997</td>\n",
       "      <td>39.090000</td>\n",
       "    </tr>\n",
       "    <tr>\n",
       "      <th>2023-09-07</th>\n",
       "      <td>285.450012</td>\n",
       "      <td>111.389999</td>\n",
       "      <td>43.060001</td>\n",
       "      <td>70.980003</td>\n",
       "      <td>471.480011</td>\n",
       "      <td>34.779999</td>\n",
       "      <td>196.699997</td>\n",
       "      <td>242.130005</td>\n",
       "      <td>172.429993</td>\n",
       "      <td>52.660000</td>\n",
       "      <td>...</td>\n",
       "      <td>95.290001</td>\n",
       "      <td>73.379997</td>\n",
       "      <td>120.239998</td>\n",
       "      <td>257.630005</td>\n",
       "      <td>244.839996</td>\n",
       "      <td>106.160004</td>\n",
       "      <td>372.059998</td>\n",
       "      <td>34.230000</td>\n",
       "      <td>203.880005</td>\n",
       "      <td>38.630001</td>\n",
       "    </tr>\n",
       "    <tr>\n",
       "      <th>2023-09-08</th>\n",
       "      <td>285.649994</td>\n",
       "      <td>112.250000</td>\n",
       "      <td>43.119999</td>\n",
       "      <td>71.000000</td>\n",
       "      <td>471.089996</td>\n",
       "      <td>34.709999</td>\n",
       "      <td>196.259995</td>\n",
       "      <td>241.899994</td>\n",
       "      <td>172.789993</td>\n",
       "      <td>52.730000</td>\n",
       "      <td>...</td>\n",
       "      <td>95.330002</td>\n",
       "      <td>73.669998</td>\n",
       "      <td>120.339996</td>\n",
       "      <td>257.390015</td>\n",
       "      <td>245.190002</td>\n",
       "      <td>105.629997</td>\n",
       "      <td>372.579987</td>\n",
       "      <td>34.299999</td>\n",
       "      <td>204.179993</td>\n",
       "      <td>38.709999</td>\n",
       "    </tr>\n",
       "    <tr>\n",
       "      <th>2023-09-11</th>\n",
       "      <td>288.799988</td>\n",
       "      <td>112.379997</td>\n",
       "      <td>43.410000</td>\n",
       "      <td>70.889999</td>\n",
       "      <td>471.549988</td>\n",
       "      <td>35.099998</td>\n",
       "      <td>196.589996</td>\n",
       "      <td>243.779999</td>\n",
       "      <td>173.690002</td>\n",
       "      <td>53.099998</td>\n",
       "      <td>...</td>\n",
       "      <td>96.150002</td>\n",
       "      <td>73.779999</td>\n",
       "      <td>120.620003</td>\n",
       "      <td>257.790009</td>\n",
       "      <td>246.880005</td>\n",
       "      <td>105.660004</td>\n",
       "      <td>376.970001</td>\n",
       "      <td>34.459999</td>\n",
       "      <td>205.690002</td>\n",
       "      <td>39.189999</td>\n",
       "    </tr>\n",
       "  </tbody>\n",
       "</table>\n",
       "<p>2691 rows × 88 columns</p>\n",
       "</div>"
      ],
      "text/plain": [
       "                   VUG         DVY       SPYV        BND         MDY  \\\n",
       "date                                                                   \n",
       "2013-01-02   65.341873   40.956379  14.228410  63.249752  167.349487   \n",
       "2013-01-03   65.153976   40.942387  14.268972  63.061295  167.226715   \n",
       "2013-01-04   65.368668   41.180260  14.301808  63.159298  168.392899   \n",
       "2013-01-07   65.243454   40.893417  14.272839  63.114067  167.928162   \n",
       "2013-01-08   65.109253   40.732494  14.207165  63.174339  167.481003   \n",
       "...                ...         ...        ...        ...         ...   \n",
       "2023-09-05  289.630005  112.160004  43.230000  70.820000  477.079987   \n",
       "2023-09-06  286.959991  111.629997  43.130001  70.739998  475.559998   \n",
       "2023-09-07  285.450012  111.389999  43.060001  70.980003  471.480011   \n",
       "2023-09-08  285.649994  112.250000  43.119999  71.000000  471.089996   \n",
       "2023-09-11  288.799988  112.379997  43.410000  70.889999  471.549988   \n",
       "\n",
       "                 SCHF          VB         VHT         XLK       SCHX  ...  \\\n",
       "date                                                                  ...   \n",
       "2013-01-02  20.913151   71.433571   64.097969   25.643324  14.425715  ...   \n",
       "2013-01-03  20.700449   71.390633   64.115486   25.479876  14.396654  ...   \n",
       "2013-01-04  20.791605   71.931580   64.474670   25.376646  14.471379  ...   \n",
       "2013-01-07  20.708044   71.716904   64.728714   25.342243  14.434018  ...   \n",
       "2013-01-08  20.556112   71.579514   64.737473   25.247620  14.392502  ...   \n",
       "...               ...         ...         ...         ...        ...  ...   \n",
       "2023-09-05  35.020000  198.899994  242.830002  176.830002  53.180000  ...   \n",
       "2023-09-06  34.880001  198.279999  241.460007  174.960007  52.790001  ...   \n",
       "2023-09-07  34.779999  196.699997  242.130005  172.429993  52.660000  ...   \n",
       "2023-09-08  34.709999  196.259995  241.899994  172.789993  52.730000  ...   \n",
       "2023-09-11  35.099998  196.589996  243.779999  173.690002  53.099998  ...   \n",
       "\n",
       "                 ACWI       SCHD         SDY         IJH         IWB  \\\n",
       "date                                                                   \n",
       "2013-01-02  39.482594  20.959566   40.860195   89.311424   67.700081   \n",
       "2013-01-03  39.313522  20.945089   40.887672   89.345589   67.599892   \n",
       "2013-01-04  39.482594  21.053686   41.183163   89.968811   67.958862   \n",
       "2013-01-07  39.321575  20.981298   40.983871   89.738312   67.733452   \n",
       "2013-01-08  39.128345  20.908897   40.901424   89.482170   67.508087   \n",
       "...               ...        ...         ...         ...         ...   \n",
       "2023-09-05  96.209999  74.010002  120.790001  260.820007  247.220001   \n",
       "2023-09-06  95.650002  73.430000  120.290001  260.079987  245.600006   \n",
       "2023-09-07  95.290001  73.379997  120.239998  257.630005  244.839996   \n",
       "2023-09-08  95.330002  73.669998  120.339996  257.390015  245.190002   \n",
       "2023-09-11  96.150002  73.779999  120.620003  257.790009  246.880005   \n",
       "\n",
       "                   XLI         QQQ        XLF          VV        EEM  \n",
       "date                                                                  \n",
       "2013-01-02   31.814758   61.144405  11.225471   55.234715  36.192566  \n",
       "2013-01-03   31.831150   60.825935  11.212165   55.143787  35.936451  \n",
       "2013-01-04   32.068882   60.625748  11.345247   55.424835  36.008480  \n",
       "2013-01-07   31.929523   60.643959  11.318629   55.251247  35.736355  \n",
       "2013-01-08   31.683586   60.525661  11.285361   55.110725  35.416206  \n",
       "...                ...         ...        ...         ...        ...  \n",
       "2023-09-05  106.970001  378.070007  34.340000  205.830002  39.310001  \n",
       "2023-09-06  106.510002  374.739990  34.320000  204.449997  39.090000  \n",
       "2023-09-07  106.160004  372.059998  34.230000  203.880005  38.630001  \n",
       "2023-09-08  105.629997  372.579987  34.299999  204.179993  38.709999  \n",
       "2023-09-11  105.660004  376.970001  34.459999  205.690002  39.189999  \n",
       "\n",
       "[2691 rows x 88 columns]"
      ]
     },
     "execution_count": 7,
     "metadata": {},
     "output_type": "execute_result"
    }
   ],
   "source": [
    "new_df = output_df\n",
    "new_df = new_df.set_index(\"date\")\n",
    "new_df.dropna(axis=0, how=\"all\", inplace=True)\n",
    "new_df.dropna(axis=1, how=\"any\", inplace=True)\n",
    "new_df"
   ]
  },
  {
   "cell_type": "code",
   "execution_count": null,
   "metadata": {},
   "outputs": [
    {
     "data": {
      "text/html": [
       "<div>\n",
       "<style scoped>\n",
       "    .dataframe tbody tr th:only-of-type {\n",
       "        vertical-align: middle;\n",
       "    }\n",
       "\n",
       "    .dataframe tbody tr th {\n",
       "        vertical-align: top;\n",
       "    }\n",
       "\n",
       "    .dataframe thead th {\n",
       "        text-align: right;\n",
       "    }\n",
       "</style>\n",
       "<table border=\"1\" class=\"dataframe\">\n",
       "  <thead>\n",
       "    <tr style=\"text-align: right;\">\n",
       "      <th></th>\n",
       "      <th>SCHX</th>\n",
       "      <th>VV</th>\n",
       "      <th>XLV</th>\n",
       "      <th>DVY</th>\n",
       "      <th>MGK</th>\n",
       "      <th>VNQ</th>\n",
       "      <th>IVV</th>\n",
       "      <th>EEM</th>\n",
       "      <th>IEFA</th>\n",
       "      <th>IVE</th>\n",
       "      <th>...</th>\n",
       "      <th>SHV</th>\n",
       "      <th>IWF</th>\n",
       "      <th>VWO</th>\n",
       "      <th>USMV</th>\n",
       "      <th>AGG</th>\n",
       "      <th>SPYG</th>\n",
       "      <th>VXUS</th>\n",
       "      <th>XLU</th>\n",
       "      <th>IWB</th>\n",
       "      <th>XLF</th>\n",
       "    </tr>\n",
       "    <tr>\n",
       "      <th>date</th>\n",
       "      <th></th>\n",
       "      <th></th>\n",
       "      <th></th>\n",
       "      <th></th>\n",
       "      <th></th>\n",
       "      <th></th>\n",
       "      <th></th>\n",
       "      <th></th>\n",
       "      <th></th>\n",
       "      <th></th>\n",
       "      <th></th>\n",
       "      <th></th>\n",
       "      <th></th>\n",
       "      <th></th>\n",
       "      <th></th>\n",
       "      <th></th>\n",
       "      <th></th>\n",
       "      <th></th>\n",
       "      <th></th>\n",
       "      <th></th>\n",
       "      <th></th>\n",
       "    </tr>\n",
       "  </thead>\n",
       "  <tbody>\n",
       "    <tr>\n",
       "      <th>2013-01-03</th>\n",
       "      <td>-0.002014</td>\n",
       "      <td>-0.001646</td>\n",
       "      <td>0.001230</td>\n",
       "      <td>-0.000341</td>\n",
       "      <td>-0.001758</td>\n",
       "      <td>-0.000150</td>\n",
       "      <td>-0.001296</td>\n",
       "      <td>-0.007077</td>\n",
       "      <td>-0.010261</td>\n",
       "      <td>-0.001030</td>\n",
       "      <td>...</td>\n",
       "      <td>0.000000</td>\n",
       "      <td>-0.002679</td>\n",
       "      <td>-0.005938</td>\n",
       "      <td>0.001350</td>\n",
       "      <td>-0.002523</td>\n",
       "      <td>-0.003421</td>\n",
       "      <td>-0.008370</td>\n",
       "      <td>0.000000</td>\n",
       "      <td>-0.001479</td>\n",
       "      <td>-0.001186</td>\n",
       "    </tr>\n",
       "    <tr>\n",
       "      <th>2013-01-04</th>\n",
       "      <td>0.005190</td>\n",
       "      <td>0.005097</td>\n",
       "      <td>0.004421</td>\n",
       "      <td>0.005810</td>\n",
       "      <td>0.001938</td>\n",
       "      <td>0.004654</td>\n",
       "      <td>0.004917</td>\n",
       "      <td>0.002004</td>\n",
       "      <td>0.007238</td>\n",
       "      <td>0.007068</td>\n",
       "      <td>...</td>\n",
       "      <td>0.000000</td>\n",
       "      <td>0.001791</td>\n",
       "      <td>0.001770</td>\n",
       "      <td>0.005730</td>\n",
       "      <td>0.001084</td>\n",
       "      <td>0.002985</td>\n",
       "      <td>0.003165</td>\n",
       "      <td>0.005062</td>\n",
       "      <td>0.005310</td>\n",
       "      <td>0.011869</td>\n",
       "    </tr>\n",
       "    <tr>\n",
       "      <th>2013-01-07</th>\n",
       "      <td>-0.002581</td>\n",
       "      <td>-0.003132</td>\n",
       "      <td>0.003178</td>\n",
       "      <td>-0.006966</td>\n",
       "      <td>-0.002286</td>\n",
       "      <td>0.002242</td>\n",
       "      <td>-0.003126</td>\n",
       "      <td>-0.007557</td>\n",
       "      <td>-0.003884</td>\n",
       "      <td>-0.003509</td>\n",
       "      <td>...</td>\n",
       "      <td>-0.000091</td>\n",
       "      <td>-0.001191</td>\n",
       "      <td>-0.008613</td>\n",
       "      <td>-0.004022</td>\n",
       "      <td>-0.000542</td>\n",
       "      <td>-0.002232</td>\n",
       "      <td>-0.004207</td>\n",
       "      <td>-0.009793</td>\n",
       "      <td>-0.003317</td>\n",
       "      <td>-0.002346</td>\n",
       "    </tr>\n",
       "    <tr>\n",
       "      <th>2013-01-08</th>\n",
       "      <td>-0.002877</td>\n",
       "      <td>-0.002543</td>\n",
       "      <td>0.000244</td>\n",
       "      <td>-0.003935</td>\n",
       "      <td>-0.001938</td>\n",
       "      <td>-0.001938</td>\n",
       "      <td>-0.002727</td>\n",
       "      <td>-0.008959</td>\n",
       "      <td>-0.005849</td>\n",
       "      <td>-0.004255</td>\n",
       "      <td>...</td>\n",
       "      <td>0.000000</td>\n",
       "      <td>-0.002684</td>\n",
       "      <td>-0.008242</td>\n",
       "      <td>-0.001010</td>\n",
       "      <td>0.000903</td>\n",
       "      <td>-0.001193</td>\n",
       "      <td>-0.005915</td>\n",
       "      <td>-0.003108</td>\n",
       "      <td>-0.003328</td>\n",
       "      <td>-0.002939</td>\n",
       "    </tr>\n",
       "    <tr>\n",
       "      <th>2013-01-09</th>\n",
       "      <td>0.003750</td>\n",
       "      <td>0.003150</td>\n",
       "      <td>0.010965</td>\n",
       "      <td>0.002061</td>\n",
       "      <td>0.003531</td>\n",
       "      <td>0.002838</td>\n",
       "      <td>0.002665</td>\n",
       "      <td>0.004294</td>\n",
       "      <td>0.004511</td>\n",
       "      <td>0.002800</td>\n",
       "      <td>...</td>\n",
       "      <td>0.000091</td>\n",
       "      <td>0.004486</td>\n",
       "      <td>0.005840</td>\n",
       "      <td>0.003705</td>\n",
       "      <td>-0.000722</td>\n",
       "      <td>0.001941</td>\n",
       "      <td>0.005737</td>\n",
       "      <td>-0.001984</td>\n",
       "      <td>0.003833</td>\n",
       "      <td>-0.001179</td>\n",
       "    </tr>\n",
       "    <tr>\n",
       "      <th>...</th>\n",
       "      <td>...</td>\n",
       "      <td>...</td>\n",
       "      <td>...</td>\n",
       "      <td>...</td>\n",
       "      <td>...</td>\n",
       "      <td>...</td>\n",
       "      <td>...</td>\n",
       "      <td>...</td>\n",
       "      <td>...</td>\n",
       "      <td>...</td>\n",
       "      <td>...</td>\n",
       "      <td>...</td>\n",
       "      <td>...</td>\n",
       "      <td>...</td>\n",
       "      <td>...</td>\n",
       "      <td>...</td>\n",
       "      <td>...</td>\n",
       "      <td>...</td>\n",
       "      <td>...</td>\n",
       "      <td>...</td>\n",
       "      <td>...</td>\n",
       "    </tr>\n",
       "    <tr>\n",
       "      <th>2023-09-01</th>\n",
       "      <td>0.002065</td>\n",
       "      <td>0.001795</td>\n",
       "      <td>0.002703</td>\n",
       "      <td>0.002555</td>\n",
       "      <td>0.000249</td>\n",
       "      <td>0.001699</td>\n",
       "      <td>0.002121</td>\n",
       "      <td>0.011744</td>\n",
       "      <td>-0.000149</td>\n",
       "      <td>0.002838</td>\n",
       "      <td>...</td>\n",
       "      <td>0.000282</td>\n",
       "      <td>0.000284</td>\n",
       "      <td>0.010856</td>\n",
       "      <td>0.002003</td>\n",
       "      <td>-0.005179</td>\n",
       "      <td>0.001120</td>\n",
       "      <td>0.004129</td>\n",
       "      <td>-0.005083</td>\n",
       "      <td>0.002744</td>\n",
       "      <td>0.009017</td>\n",
       "    </tr>\n",
       "    <tr>\n",
       "      <th>2023-09-05</th>\n",
       "      <td>-0.003747</td>\n",
       "      <td>-0.003389</td>\n",
       "      <td>-0.010332</td>\n",
       "      <td>-0.014498</td>\n",
       "      <td>0.002403</td>\n",
       "      <td>-0.011634</td>\n",
       "      <td>-0.004298</td>\n",
       "      <td>-0.008075</td>\n",
       "      <td>-0.008819</td>\n",
       "      <td>-0.008305</td>\n",
       "      <td>...</td>\n",
       "      <td>0.000000</td>\n",
       "      <td>0.000816</td>\n",
       "      <td>-0.005858</td>\n",
       "      <td>-0.007064</td>\n",
       "      <td>-0.005414</td>\n",
       "      <td>-0.001119</td>\n",
       "      <td>-0.008582</td>\n",
       "      <td>-0.015326</td>\n",
       "      <td>-0.005031</td>\n",
       "      <td>-0.010089</td>\n",
       "    </tr>\n",
       "    <tr>\n",
       "      <th>2023-09-06</th>\n",
       "      <td>-0.007334</td>\n",
       "      <td>-0.006705</td>\n",
       "      <td>-0.005447</td>\n",
       "      <td>-0.004725</td>\n",
       "      <td>-0.011532</td>\n",
       "      <td>-0.002084</td>\n",
       "      <td>-0.006952</td>\n",
       "      <td>-0.005597</td>\n",
       "      <td>-0.002413</td>\n",
       "      <td>-0.002357</td>\n",
       "      <td>...</td>\n",
       "      <td>0.000182</td>\n",
       "      <td>-0.010205</td>\n",
       "      <td>-0.004665</td>\n",
       "      <td>-0.003356</td>\n",
       "      <td>-0.000942</td>\n",
       "      <td>-0.010080</td>\n",
       "      <td>-0.003427</td>\n",
       "      <td>0.002270</td>\n",
       "      <td>-0.006553</td>\n",
       "      <td>-0.000582</td>\n",
       "    </tr>\n",
       "    <tr>\n",
       "      <th>2023-09-07</th>\n",
       "      <td>-0.002463</td>\n",
       "      <td>-0.002788</td>\n",
       "      <td>0.004488</td>\n",
       "      <td>-0.002150</td>\n",
       "      <td>-0.005227</td>\n",
       "      <td>0.006266</td>\n",
       "      <td>-0.002764</td>\n",
       "      <td>-0.011768</td>\n",
       "      <td>-0.003477</td>\n",
       "      <td>-0.001181</td>\n",
       "      <td>...</td>\n",
       "      <td>0.000545</td>\n",
       "      <td>-0.003759</td>\n",
       "      <td>-0.010360</td>\n",
       "      <td>0.003502</td>\n",
       "      <td>0.003144</td>\n",
       "      <td>-0.004526</td>\n",
       "      <td>-0.005610</td>\n",
       "      <td>0.013103</td>\n",
       "      <td>-0.003095</td>\n",
       "      <td>-0.002622</td>\n",
       "    </tr>\n",
       "    <tr>\n",
       "      <th>2023-09-08</th>\n",
       "      <td>0.001329</td>\n",
       "      <td>0.001471</td>\n",
       "      <td>0.000000</td>\n",
       "      <td>0.007721</td>\n",
       "      <td>0.002522</td>\n",
       "      <td>-0.003907</td>\n",
       "      <td>0.001230</td>\n",
       "      <td>0.002071</td>\n",
       "      <td>-0.001669</td>\n",
       "      <td>0.001432</td>\n",
       "      <td>...</td>\n",
       "      <td>0.000091</td>\n",
       "      <td>0.000467</td>\n",
       "      <td>0.001994</td>\n",
       "      <td>0.002953</td>\n",
       "      <td>0.000522</td>\n",
       "      <td>0.001461</td>\n",
       "      <td>-0.000546</td>\n",
       "      <td>0.008782</td>\n",
       "      <td>0.001430</td>\n",
       "      <td>0.002045</td>\n",
       "    </tr>\n",
       "  </tbody>\n",
       "</table>\n",
       "<p>2689 rows × 89 columns</p>\n",
       "</div>"
      ],
      "text/plain": [
       "                SCHX        VV       XLV       DVY       MGK       VNQ  \\\n",
       "date                                                                     \n",
       "2013-01-03 -0.002014 -0.001646  0.001230 -0.000341 -0.001758 -0.000150   \n",
       "2013-01-04  0.005190  0.005097  0.004421  0.005810  0.001938  0.004654   \n",
       "2013-01-07 -0.002581 -0.003132  0.003178 -0.006966 -0.002286  0.002242   \n",
       "2013-01-08 -0.002877 -0.002543  0.000244 -0.003935 -0.001938 -0.001938   \n",
       "2013-01-09  0.003750  0.003150  0.010965  0.002061  0.003531  0.002838   \n",
       "...              ...       ...       ...       ...       ...       ...   \n",
       "2023-09-01  0.002065  0.001795  0.002703  0.002555  0.000249  0.001699   \n",
       "2023-09-05 -0.003747 -0.003389 -0.010332 -0.014498  0.002403 -0.011634   \n",
       "2023-09-06 -0.007334 -0.006705 -0.005447 -0.004725 -0.011532 -0.002084   \n",
       "2023-09-07 -0.002463 -0.002788  0.004488 -0.002150 -0.005227  0.006266   \n",
       "2023-09-08  0.001329  0.001471  0.000000  0.007721  0.002522 -0.003907   \n",
       "\n",
       "                 IVV       EEM      IEFA       IVE  ...       SHV       IWF  \\\n",
       "date                                                ...                       \n",
       "2013-01-03 -0.001296 -0.007077 -0.010261 -0.001030  ...  0.000000 -0.002679   \n",
       "2013-01-04  0.004917  0.002004  0.007238  0.007068  ...  0.000000  0.001791   \n",
       "2013-01-07 -0.003126 -0.007557 -0.003884 -0.003509  ... -0.000091 -0.001191   \n",
       "2013-01-08 -0.002727 -0.008959 -0.005849 -0.004255  ...  0.000000 -0.002684   \n",
       "2013-01-09  0.002665  0.004294  0.004511  0.002800  ...  0.000091  0.004486   \n",
       "...              ...       ...       ...       ...  ...       ...       ...   \n",
       "2023-09-01  0.002121  0.011744 -0.000149  0.002838  ...  0.000282  0.000284   \n",
       "2023-09-05 -0.004298 -0.008075 -0.008819 -0.008305  ...  0.000000  0.000816   \n",
       "2023-09-06 -0.006952 -0.005597 -0.002413 -0.002357  ...  0.000182 -0.010205   \n",
       "2023-09-07 -0.002764 -0.011768 -0.003477 -0.001181  ...  0.000545 -0.003759   \n",
       "2023-09-08  0.001230  0.002071 -0.001669  0.001432  ...  0.000091  0.000467   \n",
       "\n",
       "                 VWO      USMV       AGG      SPYG      VXUS       XLU  \\\n",
       "date                                                                     \n",
       "2013-01-03 -0.005938  0.001350 -0.002523 -0.003421 -0.008370  0.000000   \n",
       "2013-01-04  0.001770  0.005730  0.001084  0.002985  0.003165  0.005062   \n",
       "2013-01-07 -0.008613 -0.004022 -0.000542 -0.002232 -0.004207 -0.009793   \n",
       "2013-01-08 -0.008242 -0.001010  0.000903 -0.001193 -0.005915 -0.003108   \n",
       "2013-01-09  0.005840  0.003705 -0.000722  0.001941  0.005737 -0.001984   \n",
       "...              ...       ...       ...       ...       ...       ...   \n",
       "2023-09-01  0.010856  0.002003 -0.005179  0.001120  0.004129 -0.005083   \n",
       "2023-09-05 -0.005858 -0.007064 -0.005414 -0.001119 -0.008582 -0.015326   \n",
       "2023-09-06 -0.004665 -0.003356 -0.000942 -0.010080 -0.003427  0.002270   \n",
       "2023-09-07 -0.010360  0.003502  0.003144 -0.004526 -0.005610  0.013103   \n",
       "2023-09-08  0.001994  0.002953  0.000522  0.001461 -0.000546  0.008782   \n",
       "\n",
       "                 IWB       XLF  \n",
       "date                            \n",
       "2013-01-03 -0.001479 -0.001186  \n",
       "2013-01-04  0.005310  0.011869  \n",
       "2013-01-07 -0.003317 -0.002346  \n",
       "2013-01-08 -0.003328 -0.002939  \n",
       "2013-01-09  0.003833 -0.001179  \n",
       "...              ...       ...  \n",
       "2023-09-01  0.002744  0.009017  \n",
       "2023-09-05 -0.005031 -0.010089  \n",
       "2023-09-06 -0.006553 -0.000582  \n",
       "2023-09-07 -0.003095 -0.002622  \n",
       "2023-09-08  0.001430  0.002045  \n",
       "\n",
       "[2689 rows x 89 columns]"
      ]
     },
     "execution_count": 75,
     "metadata": {},
     "output_type": "execute_result"
    }
   ],
   "source": [
    "def calculate_return(series):\n",
    "    return (series.iloc[1] - series.iloc[0]) / series.iloc[0]\n",
    "\n",
    "returns_df = new_df.rolling(2).apply(calculate_return)\n",
    "returns_df = returns_df.iloc[1:]\n",
    "returns_df"
   ]
  },
  {
   "cell_type": "markdown",
   "metadata": {},
   "source": [
    "We will calculate the yearly average returns and volatility, and then convert them to yearly"
   ]
  },
  {
   "cell_type": "code",
   "execution_count": null,
   "metadata": {},
   "outputs": [
    {
     "data": {
      "text/html": [
       "<div>\n",
       "<style scoped>\n",
       "    .dataframe tbody tr th:only-of-type {\n",
       "        vertical-align: middle;\n",
       "    }\n",
       "\n",
       "    .dataframe tbody tr th {\n",
       "        vertical-align: top;\n",
       "    }\n",
       "\n",
       "    .dataframe thead th {\n",
       "        text-align: right;\n",
       "    }\n",
       "</style>\n",
       "<table border=\"1\" class=\"dataframe\">\n",
       "  <thead>\n",
       "    <tr style=\"text-align: right;\">\n",
       "      <th></th>\n",
       "      <th>ticker</th>\n",
       "      <th>avg_return</th>\n",
       "      <th>volatility</th>\n",
       "      <th>max_drop</th>\n",
       "      <th>sharpe_ratio</th>\n",
       "    </tr>\n",
       "  </thead>\n",
       "  <tbody>\n",
       "    <tr>\n",
       "      <th>0</th>\n",
       "      <td>SCHX</td>\n",
       "      <td>0.218827</td>\n",
       "      <td>0.173738</td>\n",
       "      <td>-0.119287</td>\n",
       "      <td>1.259524</td>\n",
       "    </tr>\n",
       "    <tr>\n",
       "      <th>1</th>\n",
       "      <td>VV</td>\n",
       "      <td>0.220766</td>\n",
       "      <td>0.174023</td>\n",
       "      <td>-0.119888</td>\n",
       "      <td>1.268597</td>\n",
       "    </tr>\n",
       "    <tr>\n",
       "      <th>2</th>\n",
       "      <td>XLV</td>\n",
       "      <td>0.225481</td>\n",
       "      <td>0.167537</td>\n",
       "      <td>-0.098610</td>\n",
       "      <td>1.345852</td>\n",
       "    </tr>\n",
       "    <tr>\n",
       "      <th>3</th>\n",
       "      <td>DVY</td>\n",
       "      <td>0.171736</td>\n",
       "      <td>0.172553</td>\n",
       "      <td>-0.110931</td>\n",
       "      <td>0.995268</td>\n",
       "    </tr>\n",
       "    <tr>\n",
       "      <th>4</th>\n",
       "      <td>MGK</td>\n",
       "      <td>0.269283</td>\n",
       "      <td>0.200735</td>\n",
       "      <td>-0.125514</td>\n",
       "      <td>1.341485</td>\n",
       "    </tr>\n",
       "    <tr>\n",
       "      <th>...</th>\n",
       "      <td>...</td>\n",
       "      <td>...</td>\n",
       "      <td>...</td>\n",
       "      <td>...</td>\n",
       "      <td>...</td>\n",
       "    </tr>\n",
       "    <tr>\n",
       "      <th>84</th>\n",
       "      <td>SPYG</td>\n",
       "      <td>0.248019</td>\n",
       "      <td>0.189392</td>\n",
       "      <td>-0.119817</td>\n",
       "      <td>1.309551</td>\n",
       "    </tr>\n",
       "    <tr>\n",
       "      <th>85</th>\n",
       "      <td>VXUS</td>\n",
       "      <td>0.084928</td>\n",
       "      <td>0.170041</td>\n",
       "      <td>-0.111319</td>\n",
       "      <td>0.499457</td>\n",
       "    </tr>\n",
       "    <tr>\n",
       "      <th>86</th>\n",
       "      <td>XLU</td>\n",
       "      <td>0.162637</td>\n",
       "      <td>0.185329</td>\n",
       "      <td>-0.113577</td>\n",
       "      <td>0.877556</td>\n",
       "    </tr>\n",
       "    <tr>\n",
       "      <th>87</th>\n",
       "      <td>IWB</td>\n",
       "      <td>0.217396</td>\n",
       "      <td>0.174061</td>\n",
       "      <td>-0.119059</td>\n",
       "      <td>1.248969</td>\n",
       "    </tr>\n",
       "    <tr>\n",
       "      <th>88</th>\n",
       "      <td>XLF</td>\n",
       "      <td>0.204124</td>\n",
       "      <td>0.216848</td>\n",
       "      <td>-0.137093</td>\n",
       "      <td>0.941326</td>\n",
       "    </tr>\n",
       "  </tbody>\n",
       "</table>\n",
       "<p>89 rows × 5 columns</p>\n",
       "</div>"
      ],
      "text/plain": [
       "   ticker  avg_return  volatility  max_drop  sharpe_ratio\n",
       "0    SCHX    0.218827    0.173738 -0.119287      1.259524\n",
       "1      VV    0.220766    0.174023 -0.119888      1.268597\n",
       "2     XLV    0.225481    0.167537 -0.098610      1.345852\n",
       "3     DVY    0.171736    0.172553 -0.110931      0.995268\n",
       "4     MGK    0.269283    0.200735 -0.125514      1.341485\n",
       "..    ...         ...         ...       ...           ...\n",
       "84   SPYG    0.248019    0.189392 -0.119817      1.309551\n",
       "85   VXUS    0.084928    0.170041 -0.111319      0.499457\n",
       "86    XLU    0.162637    0.185329 -0.113577      0.877556\n",
       "87    IWB    0.217396    0.174061 -0.119059      1.248969\n",
       "88    XLF    0.204124    0.216848 -0.137093      0.941326\n",
       "\n",
       "[89 rows x 5 columns]"
      ]
     },
     "execution_count": 76,
     "metadata": {},
     "output_type": "execute_result"
    }
   ],
   "source": [
    "return_list = []\n",
    "for column in returns_df.columns.values:\n",
    "    daily_return = returns_df.loc[:,column].mean()\n",
    "    yearly_return = (( 1 + daily_return ) ** 365) - 1\n",
    "    daily_volatility = returns_df.loc[:,column].std()\n",
    "    yearly_volatility = np.sqrt(252) * daily_volatility\n",
    "    max_daily_drop = returns_df.loc[:,column].min()\n",
    "    column_list = [column, yearly_return, yearly_volatility, max_daily_drop]\n",
    "    return_list.append(column_list)\n",
    "\n",
    "returns_summary_df = pd.DataFrame(return_list, columns =['ticker', 'avg_return', 'volatility', 'max_drop'])\n",
    "returns_summary_df[\"sharpe_ratio\"] = returns_summary_df[\"avg_return\"] / returns_summary_df[\"volatility\"]\n",
    "returns_summary_df"
   ]
  },
  {
   "cell_type": "code",
   "execution_count": null,
   "metadata": {},
   "outputs": [
    {
     "data": {
      "application/vnd.plotly.v1+json": {
       "config": {
        "plotlyServerURL": "https://plot.ly"
       },
       "data": [
        {
         "customdata": [
          [
           "SCHX"
          ],
          [
           "VV"
          ],
          [
           "XLV"
          ],
          [
           "DVY"
          ],
          [
           "MGK"
          ],
          [
           "VNQ"
          ],
          [
           "IVV"
          ],
          [
           "EEM"
          ],
          [
           "IEFA"
          ],
          [
           "IVE"
          ],
          [
           "IWD"
          ],
          [
           "MUB"
          ],
          [
           "SPLG"
          ],
          [
           "XLI"
          ],
          [
           "HYG"
          ],
          [
           "BIL"
          ],
          [
           "VYM"
          ],
          [
           "VGIT"
          ],
          [
           "VOE"
          ],
          [
           "SPY"
          ],
          [
           "IJH"
          ],
          [
           "VUG"
          ],
          [
           "VXF"
          ],
          [
           "VGK"
          ],
          [
           "XLK"
          ],
          [
           "MBB"
          ],
          [
           "VEA"
          ],
          [
           "VTI"
          ],
          [
           "IWR"
          ],
          [
           "VTV"
          ],
          [
           "IEF"
          ],
          [
           "LQD"
          ],
          [
           "ITOT"
          ],
          [
           "IEMG"
          ],
          [
           "XLE"
          ],
          [
           "SPDW"
          ],
          [
           "VGSH"
          ],
          [
           "IJR"
          ],
          [
           "VGT"
          ],
          [
           "IWM"
          ],
          [
           "BIV"
          ],
          [
           "ACWI"
          ],
          [
           "QQQ"
          ],
          [
           "DIA"
          ],
          [
           "IAU"
          ],
          [
           "TLT"
          ],
          [
           "VO"
          ],
          [
           "VOO"
          ],
          [
           "VMBS"
          ],
          [
           "BND"
          ],
          [
           "VCSH"
          ],
          [
           "SDY"
          ],
          [
           "SCHB"
          ],
          [
           "IGSB"
          ],
          [
           "SPYV"
          ],
          [
           "SCHG"
          ],
          [
           "XLY"
          ],
          [
           "VT"
          ],
          [
           "TIP"
          ],
          [
           "GLD"
          ],
          [
           "VCIT"
          ],
          [
           "VHT"
          ],
          [
           "GOVT"
          ],
          [
           "EFA"
          ],
          [
           "SCHF"
          ],
          [
           "VEU"
          ],
          [
           "VBR"
          ],
          [
           "IXUS"
          ],
          [
           "BSV"
          ],
          [
           "TQQQ"
          ],
          [
           "SCHD"
          ],
          [
           "IVW"
          ],
          [
           "RSP"
          ],
          [
           "MDY"
          ],
          [
           "VB"
          ],
          [
           "XLP"
          ],
          [
           "EFV"
          ],
          [
           "VIG"
          ],
          [
           "SHY"
          ],
          [
           "SHV"
          ],
          [
           "IWF"
          ],
          [
           "VWO"
          ],
          [
           "USMV"
          ],
          [
           "AGG"
          ],
          [
           "SPYG"
          ],
          [
           "VXUS"
          ],
          [
           "XLU"
          ],
          [
           "IWB"
          ],
          [
           "XLF"
          ]
         ],
         "hovertemplate": "volatility=%{x}<br>avg_return=%{y}<br>ticker=%{customdata[0]}<extra></extra>",
         "legendgroup": "",
         "marker": {
          "color": "#636efa",
          "symbol": "circle"
         },
         "mode": "markers",
         "name": "",
         "orientation": "v",
         "showlegend": false,
         "type": "scatter",
         "x": [
          0.17373801552953952,
          0.17402337442837013,
          0.16753749877509938,
          0.17255265411515675,
          0.20073482105122004,
          0.20000644772591653,
          0.17345149251926897,
          0.2066955828796208,
          0.16994931480733272,
          0.1678181015987185,
          0.17019771189691396,
          0.04830986356030879,
          0.17249007498208196,
          0.19256961427234223,
          0.08432376710552833,
          0.0025258328169917065,
          0.15986232021696972,
          0.04256642259568212,
          0.18424917954511147,
          0.17144388301565444,
          0.19961996098139817,
          0.19808944184793886,
          0.20731327479247022,
          0.1882751845643816,
          0.21941292988344518,
          0.043914495704436014,
          0.17055550177036008,
          0.17498540572512614,
          0.18533696895325288,
          0.16521977312548436,
          0.06438747072949386,
          0.08160268400726042,
          0.17454824848295047,
          0.20026425474239556,
          0.28961076680666015,
          0.16860927874084156,
          0.013765384996304515,
          0.21410374042558,
          0.222412670984777,
          0.21510431885011302,
          0.05179525647059248,
          0.16679893534394374,
          0.20947396043096786,
          0.17022472156055554,
          0.1498786334646674,
          0.14650310871915895,
          0.18479866529921868,
          0.17319121193451917,
          0.045075017054257836,
          0.0500867924172771,
          0.03165532325966788,
          0.16749346509696572,
          0.175603256450943,
          0.03175001117386429,
          0.1666930408228106,
          0.19867016342482294,
          0.20213503337393965,
          0.1681160923008922,
          0.05860999852557492,
          0.14982926016122408,
          0.05971763304609054,
          0.17177674177886562,
          0.0475340477550847,
          0.17045659498476415,
          0.1681222456215784,
          0.17020969003990755,
          0.20560178329398313,
          0.16797697419773114,
          0.021387093759788596,
          0.6198112489750345,
          0.16167075492715013,
          0.18945075302065179,
          0.17962507961136365,
          0.20011301752373634,
          0.20144796870256101,
          0.143980698367041,
          0.17999802129840772,
          0.15725434236886762,
          0.013477465894066558,
          0.002413658104066993,
          0.19261206723324742,
          0.1996479468869597,
          0.1437913863107486,
          0.048596178122765364,
          0.18939212420083948,
          0.17004138414821546,
          0.1853294379596248,
          0.17406071848012672,
          0.2168479033604883
         ],
         "xaxis": "x",
         "y": [
          0.21882714240390855,
          0.22076560475609597,
          0.22548074332607038,
          0.17173611865789806,
          0.26928273275601455,
          0.12022730106247881,
          0.22097260401979457,
          0.04103138654851812,
          0.0989158372722132,
          0.18518951140040452,
          0.16709874699394756,
          0.027886296954273027,
          0.22147861364774912,
          0.20902468190179735,
          0.050771711492407556,
          0.012499987020336611,
          0.17896852331019275,
          0.011065016148905205,
          0.17988148272885218,
          0.22014071364429078,
          0.18855705792734145,
          0.25701488337735023,
          0.1835551493827543,
          0.10471645724538026,
          0.3416090184621774,
          0.009323734089103475,
          0.09904275299907184,
          0.21475218808543062,
          0.18598863839732682,
          0.18904095557184641,
          0.010844979202278004,
          0.03268035414919934,
          0.21637256729180998,
          0.0530479085321669,
          0.15715700433546198,
          0.09389308175787403,
          0.010313632174898446,
          0.18939924005557973,
          0.34434172308671473,
          0.167149659255184,
          0.020534304462273445,
          0.15016855172776844,
          0.31938308784132285,
          0.19849980708245862,
          0.030719888343330615,
          0.018604810512102832,
          0.19009444351726246,
          0.22112313702442288,
          0.010761711789255335,
          0.017665019308481522,
          0.025028065840033253,
          0.18172647652874985,
          0.21412019192239606,
          0.02074842919992448,
          0.18613321515507497,
          0.2717469936421524,
          0.24186786348640155,
          0.15089314334360449,
          0.017125043899205883,
          0.028566945270052546,
          0.03276088942354871,
          0.22346414200437992,
          0.00839351547810141,
          0.09419804003056598,
          0.0934988960235863,
          0.0847445176847339,
          0.18046576814656645,
          0.0830894474107009,
          0.01476701582677098,
          1.1479181453774894,
          0.20875468090828186,
          0.24659572222614234,
          0.19989067352746703,
          0.18490811441582555,
          0.1814675645923347,
          0.15790145725150162,
          0.08001216424243607,
          0.1958834608598623,
          0.009425355104371036,
          0.013640948734105152,
          0.2659441571561818,
          0.052870324480535746,
          0.18323037749431426,
          0.016828150457149915,
          0.24801867235450148,
          0.08492830286343378,
          0.16263701633019223,
          0.2173964880122914,
          0.20412447261731237
         ],
         "yaxis": "y"
        }
       ],
       "layout": {
        "legend": {
         "tracegroupgap": 0
        },
        "margin": {
         "t": 60
        },
        "template": {
         "data": {
          "bar": [
           {
            "error_x": {
             "color": "#2a3f5f"
            },
            "error_y": {
             "color": "#2a3f5f"
            },
            "marker": {
             "line": {
              "color": "#E5ECF6",
              "width": 0.5
             },
             "pattern": {
              "fillmode": "overlay",
              "size": 10,
              "solidity": 0.2
             }
            },
            "type": "bar"
           }
          ],
          "barpolar": [
           {
            "marker": {
             "line": {
              "color": "#E5ECF6",
              "width": 0.5
             },
             "pattern": {
              "fillmode": "overlay",
              "size": 10,
              "solidity": 0.2
             }
            },
            "type": "barpolar"
           }
          ],
          "carpet": [
           {
            "aaxis": {
             "endlinecolor": "#2a3f5f",
             "gridcolor": "white",
             "linecolor": "white",
             "minorgridcolor": "white",
             "startlinecolor": "#2a3f5f"
            },
            "baxis": {
             "endlinecolor": "#2a3f5f",
             "gridcolor": "white",
             "linecolor": "white",
             "minorgridcolor": "white",
             "startlinecolor": "#2a3f5f"
            },
            "type": "carpet"
           }
          ],
          "choropleth": [
           {
            "colorbar": {
             "outlinewidth": 0,
             "ticks": ""
            },
            "type": "choropleth"
           }
          ],
          "contour": [
           {
            "colorbar": {
             "outlinewidth": 0,
             "ticks": ""
            },
            "colorscale": [
             [
              0,
              "#0d0887"
             ],
             [
              0.1111111111111111,
              "#46039f"
             ],
             [
              0.2222222222222222,
              "#7201a8"
             ],
             [
              0.3333333333333333,
              "#9c179e"
             ],
             [
              0.4444444444444444,
              "#bd3786"
             ],
             [
              0.5555555555555556,
              "#d8576b"
             ],
             [
              0.6666666666666666,
              "#ed7953"
             ],
             [
              0.7777777777777778,
              "#fb9f3a"
             ],
             [
              0.8888888888888888,
              "#fdca26"
             ],
             [
              1,
              "#f0f921"
             ]
            ],
            "type": "contour"
           }
          ],
          "contourcarpet": [
           {
            "colorbar": {
             "outlinewidth": 0,
             "ticks": ""
            },
            "type": "contourcarpet"
           }
          ],
          "heatmap": [
           {
            "colorbar": {
             "outlinewidth": 0,
             "ticks": ""
            },
            "colorscale": [
             [
              0,
              "#0d0887"
             ],
             [
              0.1111111111111111,
              "#46039f"
             ],
             [
              0.2222222222222222,
              "#7201a8"
             ],
             [
              0.3333333333333333,
              "#9c179e"
             ],
             [
              0.4444444444444444,
              "#bd3786"
             ],
             [
              0.5555555555555556,
              "#d8576b"
             ],
             [
              0.6666666666666666,
              "#ed7953"
             ],
             [
              0.7777777777777778,
              "#fb9f3a"
             ],
             [
              0.8888888888888888,
              "#fdca26"
             ],
             [
              1,
              "#f0f921"
             ]
            ],
            "type": "heatmap"
           }
          ],
          "heatmapgl": [
           {
            "colorbar": {
             "outlinewidth": 0,
             "ticks": ""
            },
            "colorscale": [
             [
              0,
              "#0d0887"
             ],
             [
              0.1111111111111111,
              "#46039f"
             ],
             [
              0.2222222222222222,
              "#7201a8"
             ],
             [
              0.3333333333333333,
              "#9c179e"
             ],
             [
              0.4444444444444444,
              "#bd3786"
             ],
             [
              0.5555555555555556,
              "#d8576b"
             ],
             [
              0.6666666666666666,
              "#ed7953"
             ],
             [
              0.7777777777777778,
              "#fb9f3a"
             ],
             [
              0.8888888888888888,
              "#fdca26"
             ],
             [
              1,
              "#f0f921"
             ]
            ],
            "type": "heatmapgl"
           }
          ],
          "histogram": [
           {
            "marker": {
             "pattern": {
              "fillmode": "overlay",
              "size": 10,
              "solidity": 0.2
             }
            },
            "type": "histogram"
           }
          ],
          "histogram2d": [
           {
            "colorbar": {
             "outlinewidth": 0,
             "ticks": ""
            },
            "colorscale": [
             [
              0,
              "#0d0887"
             ],
             [
              0.1111111111111111,
              "#46039f"
             ],
             [
              0.2222222222222222,
              "#7201a8"
             ],
             [
              0.3333333333333333,
              "#9c179e"
             ],
             [
              0.4444444444444444,
              "#bd3786"
             ],
             [
              0.5555555555555556,
              "#d8576b"
             ],
             [
              0.6666666666666666,
              "#ed7953"
             ],
             [
              0.7777777777777778,
              "#fb9f3a"
             ],
             [
              0.8888888888888888,
              "#fdca26"
             ],
             [
              1,
              "#f0f921"
             ]
            ],
            "type": "histogram2d"
           }
          ],
          "histogram2dcontour": [
           {
            "colorbar": {
             "outlinewidth": 0,
             "ticks": ""
            },
            "colorscale": [
             [
              0,
              "#0d0887"
             ],
             [
              0.1111111111111111,
              "#46039f"
             ],
             [
              0.2222222222222222,
              "#7201a8"
             ],
             [
              0.3333333333333333,
              "#9c179e"
             ],
             [
              0.4444444444444444,
              "#bd3786"
             ],
             [
              0.5555555555555556,
              "#d8576b"
             ],
             [
              0.6666666666666666,
              "#ed7953"
             ],
             [
              0.7777777777777778,
              "#fb9f3a"
             ],
             [
              0.8888888888888888,
              "#fdca26"
             ],
             [
              1,
              "#f0f921"
             ]
            ],
            "type": "histogram2dcontour"
           }
          ],
          "mesh3d": [
           {
            "colorbar": {
             "outlinewidth": 0,
             "ticks": ""
            },
            "type": "mesh3d"
           }
          ],
          "parcoords": [
           {
            "line": {
             "colorbar": {
              "outlinewidth": 0,
              "ticks": ""
             }
            },
            "type": "parcoords"
           }
          ],
          "pie": [
           {
            "automargin": true,
            "type": "pie"
           }
          ],
          "scatter": [
           {
            "fillpattern": {
             "fillmode": "overlay",
             "size": 10,
             "solidity": 0.2
            },
            "type": "scatter"
           }
          ],
          "scatter3d": [
           {
            "line": {
             "colorbar": {
              "outlinewidth": 0,
              "ticks": ""
             }
            },
            "marker": {
             "colorbar": {
              "outlinewidth": 0,
              "ticks": ""
             }
            },
            "type": "scatter3d"
           }
          ],
          "scattercarpet": [
           {
            "marker": {
             "colorbar": {
              "outlinewidth": 0,
              "ticks": ""
             }
            },
            "type": "scattercarpet"
           }
          ],
          "scattergeo": [
           {
            "marker": {
             "colorbar": {
              "outlinewidth": 0,
              "ticks": ""
             }
            },
            "type": "scattergeo"
           }
          ],
          "scattergl": [
           {
            "marker": {
             "colorbar": {
              "outlinewidth": 0,
              "ticks": ""
             }
            },
            "type": "scattergl"
           }
          ],
          "scattermapbox": [
           {
            "marker": {
             "colorbar": {
              "outlinewidth": 0,
              "ticks": ""
             }
            },
            "type": "scattermapbox"
           }
          ],
          "scatterpolar": [
           {
            "marker": {
             "colorbar": {
              "outlinewidth": 0,
              "ticks": ""
             }
            },
            "type": "scatterpolar"
           }
          ],
          "scatterpolargl": [
           {
            "marker": {
             "colorbar": {
              "outlinewidth": 0,
              "ticks": ""
             }
            },
            "type": "scatterpolargl"
           }
          ],
          "scatterternary": [
           {
            "marker": {
             "colorbar": {
              "outlinewidth": 0,
              "ticks": ""
             }
            },
            "type": "scatterternary"
           }
          ],
          "surface": [
           {
            "colorbar": {
             "outlinewidth": 0,
             "ticks": ""
            },
            "colorscale": [
             [
              0,
              "#0d0887"
             ],
             [
              0.1111111111111111,
              "#46039f"
             ],
             [
              0.2222222222222222,
              "#7201a8"
             ],
             [
              0.3333333333333333,
              "#9c179e"
             ],
             [
              0.4444444444444444,
              "#bd3786"
             ],
             [
              0.5555555555555556,
              "#d8576b"
             ],
             [
              0.6666666666666666,
              "#ed7953"
             ],
             [
              0.7777777777777778,
              "#fb9f3a"
             ],
             [
              0.8888888888888888,
              "#fdca26"
             ],
             [
              1,
              "#f0f921"
             ]
            ],
            "type": "surface"
           }
          ],
          "table": [
           {
            "cells": {
             "fill": {
              "color": "#EBF0F8"
             },
             "line": {
              "color": "white"
             }
            },
            "header": {
             "fill": {
              "color": "#C8D4E3"
             },
             "line": {
              "color": "white"
             }
            },
            "type": "table"
           }
          ]
         },
         "layout": {
          "annotationdefaults": {
           "arrowcolor": "#2a3f5f",
           "arrowhead": 0,
           "arrowwidth": 1
          },
          "autotypenumbers": "strict",
          "coloraxis": {
           "colorbar": {
            "outlinewidth": 0,
            "ticks": ""
           }
          },
          "colorscale": {
           "diverging": [
            [
             0,
             "#8e0152"
            ],
            [
             0.1,
             "#c51b7d"
            ],
            [
             0.2,
             "#de77ae"
            ],
            [
             0.3,
             "#f1b6da"
            ],
            [
             0.4,
             "#fde0ef"
            ],
            [
             0.5,
             "#f7f7f7"
            ],
            [
             0.6,
             "#e6f5d0"
            ],
            [
             0.7,
             "#b8e186"
            ],
            [
             0.8,
             "#7fbc41"
            ],
            [
             0.9,
             "#4d9221"
            ],
            [
             1,
             "#276419"
            ]
           ],
           "sequential": [
            [
             0,
             "#0d0887"
            ],
            [
             0.1111111111111111,
             "#46039f"
            ],
            [
             0.2222222222222222,
             "#7201a8"
            ],
            [
             0.3333333333333333,
             "#9c179e"
            ],
            [
             0.4444444444444444,
             "#bd3786"
            ],
            [
             0.5555555555555556,
             "#d8576b"
            ],
            [
             0.6666666666666666,
             "#ed7953"
            ],
            [
             0.7777777777777778,
             "#fb9f3a"
            ],
            [
             0.8888888888888888,
             "#fdca26"
            ],
            [
             1,
             "#f0f921"
            ]
           ],
           "sequentialminus": [
            [
             0,
             "#0d0887"
            ],
            [
             0.1111111111111111,
             "#46039f"
            ],
            [
             0.2222222222222222,
             "#7201a8"
            ],
            [
             0.3333333333333333,
             "#9c179e"
            ],
            [
             0.4444444444444444,
             "#bd3786"
            ],
            [
             0.5555555555555556,
             "#d8576b"
            ],
            [
             0.6666666666666666,
             "#ed7953"
            ],
            [
             0.7777777777777778,
             "#fb9f3a"
            ],
            [
             0.8888888888888888,
             "#fdca26"
            ],
            [
             1,
             "#f0f921"
            ]
           ]
          },
          "colorway": [
           "#636efa",
           "#EF553B",
           "#00cc96",
           "#ab63fa",
           "#FFA15A",
           "#19d3f3",
           "#FF6692",
           "#B6E880",
           "#FF97FF",
           "#FECB52"
          ],
          "font": {
           "color": "#2a3f5f"
          },
          "geo": {
           "bgcolor": "white",
           "lakecolor": "white",
           "landcolor": "#E5ECF6",
           "showlakes": true,
           "showland": true,
           "subunitcolor": "white"
          },
          "hoverlabel": {
           "align": "left"
          },
          "hovermode": "closest",
          "mapbox": {
           "style": "light"
          },
          "paper_bgcolor": "white",
          "plot_bgcolor": "#E5ECF6",
          "polar": {
           "angularaxis": {
            "gridcolor": "white",
            "linecolor": "white",
            "ticks": ""
           },
           "bgcolor": "#E5ECF6",
           "radialaxis": {
            "gridcolor": "white",
            "linecolor": "white",
            "ticks": ""
           }
          },
          "scene": {
           "xaxis": {
            "backgroundcolor": "#E5ECF6",
            "gridcolor": "white",
            "gridwidth": 2,
            "linecolor": "white",
            "showbackground": true,
            "ticks": "",
            "zerolinecolor": "white"
           },
           "yaxis": {
            "backgroundcolor": "#E5ECF6",
            "gridcolor": "white",
            "gridwidth": 2,
            "linecolor": "white",
            "showbackground": true,
            "ticks": "",
            "zerolinecolor": "white"
           },
           "zaxis": {
            "backgroundcolor": "#E5ECF6",
            "gridcolor": "white",
            "gridwidth": 2,
            "linecolor": "white",
            "showbackground": true,
            "ticks": "",
            "zerolinecolor": "white"
           }
          },
          "shapedefaults": {
           "line": {
            "color": "#2a3f5f"
           }
          },
          "ternary": {
           "aaxis": {
            "gridcolor": "white",
            "linecolor": "white",
            "ticks": ""
           },
           "baxis": {
            "gridcolor": "white",
            "linecolor": "white",
            "ticks": ""
           },
           "bgcolor": "#E5ECF6",
           "caxis": {
            "gridcolor": "white",
            "linecolor": "white",
            "ticks": ""
           }
          },
          "title": {
           "x": 0.05
          },
          "xaxis": {
           "automargin": true,
           "gridcolor": "white",
           "linecolor": "white",
           "ticks": "",
           "title": {
            "standoff": 15
           },
           "zerolinecolor": "white",
           "zerolinewidth": 2
          },
          "yaxis": {
           "automargin": true,
           "gridcolor": "white",
           "linecolor": "white",
           "ticks": "",
           "title": {
            "standoff": 15
           },
           "zerolinecolor": "white",
           "zerolinewidth": 2
          }
         }
        },
        "xaxis": {
         "anchor": "y",
         "domain": [
          0,
          1
         ],
         "title": {
          "text": "volatility"
         }
        },
        "yaxis": {
         "anchor": "x",
         "domain": [
          0,
          1
         ],
         "title": {
          "text": "avg_return"
         }
        }
       }
      }
     },
     "metadata": {},
     "output_type": "display_data"
    }
   ],
   "source": [
    "fig = px.scatter(returns_summary_df, y=\"avg_return\", x=\"volatility\", hover_data=\"ticker\")\n",
    "fig.show()"
   ]
  },
  {
   "cell_type": "code",
   "execution_count": null,
   "metadata": {},
   "outputs": [
    {
     "name": "stderr",
     "output_type": "stream",
     "text": [
      "c:\\Users\\dvela\\anaconda3\\envs\\EtfProjEnv\\Lib\\site-packages\\sklearn\\cluster\\_kmeans.py:1412: FutureWarning:\n",
      "\n",
      "The default value of `n_init` will change from 10 to 'auto' in 1.4. Set the value of `n_init` explicitly to suppress the warning\n",
      "\n"
     ]
    },
    {
     "data": {
      "application/vnd.plotly.v1+json": {
       "config": {
        "plotlyServerURL": "https://plot.ly"
       },
       "data": [
        {
         "hovertemplate": "volatility=%{x}<br>cluster=%{y}<extra></extra>",
         "legendgroup": "",
         "marker": {
          "color": "#636efa",
          "symbol": "circle"
         },
         "mode": "markers",
         "name": "",
         "orientation": "v",
         "showlegend": false,
         "type": "scatter",
         "x": [
          0.1917896593931059,
          0.11941895905507346,
          0.19210773521381658,
          0.15325348815285098,
          0.16608885616735422,
          0.2527753967890322,
          0.20839360531563128,
          0.19005988368903032,
          0.18848198513613232,
          0.1578972527228285,
          0.19671411850147016,
          0.17918343520468777,
          0.16265100161144844,
          0.16553984073085554,
          0.04021443962634646,
          0.18740292954978818,
          0.18488274138102487,
          0.09665310601253607,
          0.0026996790602190263,
          0.15313370107182026,
          0.06297513644442349,
          0.1823427816228436,
          0.18858538716307335,
          0.004703616861464034,
          0.21466071200598422,
          0.20064380361765302,
          0.24976062374640404,
          0.24538133864567188,
          0.20331145599380396,
          0.2596643230946964,
          0.07540332478022772,
          0.1783126000445094,
          0.19387566105250723,
          0.20492532101274516,
          0.15451361999126326,
          0.0902314874839562,
          0.03719173127241948,
          0.10128733645500938,
          0.19391555264071117,
          0.19062468059251567,
          0.30462179815231294,
          0.1779564031988625,
          0.02308973991986118,
          0.22331837594394993,
          0.26644848709577806,
          0.23700231706387287,
          0.07420576673816189,
          0.17730783244052317,
          0.25094734136567176,
          0.15985179772614153,
          0.140982578465754,
          0.18102796728159498,
          0.203525764408993,
          0.18790203467120495,
          0.07499140435297541,
          0.06882923785406082,
          0.03398779065587092,
          0.1602985110488605,
          0.05821915071036561,
          0.19364280855208293,
          0.03460830787905545,
          0.20364841609020518,
          0.06633015364453435,
          0.16260648285450816,
          0.25124517464091634,
          0.26861958427284033,
          0.1780097618029757,
          0.07711730552551957,
          0.24943271403800094,
          0.1406838448661344,
          0.07785478063869682,
          0.15828579918548735,
          0.0687173673496371,
          0.1787002343098881,
          0.17555571908870646,
          0.1723865969316379,
          0.21558064240303426,
          0.173887590062346,
          0.031749542813409325,
          0.7457167862481264,
          0.15618887543998516,
          0.23114177205441125,
          0.18373703528604263,
          0.21504825838754055,
          0.2249233288838388,
          0.1427261716232376,
          0.17490508356158155,
          0.16126339637379108,
          0.006912713136821933,
          0.023301339558832068,
          0.0031837002367180616,
          0.23537621058712602,
          0.18681247125247957,
          0.1435197347503011,
          0.06918408363013416,
          0.23051074391253512,
          0.1718745059442474,
          0.1828011511531664,
          0.19163311637593086,
          0.21108037892237397
         ],
         "xaxis": "x",
         "y": [
          1,
          1,
          1,
          1,
          1,
          0,
          0,
          1,
          1,
          1,
          1,
          1,
          1,
          1,
          3,
          1,
          1,
          3,
          3,
          1,
          3,
          1,
          1,
          3,
          0,
          1,
          0,
          0,
          1,
          0,
          3,
          1,
          1,
          1,
          1,
          3,
          3,
          3,
          1,
          1,
          0,
          1,
          3,
          0,
          0,
          0,
          3,
          1,
          0,
          1,
          1,
          1,
          1,
          1,
          3,
          3,
          3,
          1,
          3,
          1,
          3,
          1,
          3,
          1,
          0,
          0,
          1,
          3,
          0,
          1,
          3,
          1,
          3,
          1,
          1,
          1,
          0,
          1,
          3,
          2,
          1,
          0,
          1,
          0,
          0,
          1,
          1,
          1,
          3,
          3,
          3,
          0,
          1,
          1,
          3,
          0,
          1,
          1,
          1,
          0
         ],
         "yaxis": "y"
        }
       ],
       "layout": {
        "legend": {
         "tracegroupgap": 0
        },
        "margin": {
         "t": 60
        },
        "template": {
         "data": {
          "bar": [
           {
            "error_x": {
             "color": "#2a3f5f"
            },
            "error_y": {
             "color": "#2a3f5f"
            },
            "marker": {
             "line": {
              "color": "#E5ECF6",
              "width": 0.5
             },
             "pattern": {
              "fillmode": "overlay",
              "size": 10,
              "solidity": 0.2
             }
            },
            "type": "bar"
           }
          ],
          "barpolar": [
           {
            "marker": {
             "line": {
              "color": "#E5ECF6",
              "width": 0.5
             },
             "pattern": {
              "fillmode": "overlay",
              "size": 10,
              "solidity": 0.2
             }
            },
            "type": "barpolar"
           }
          ],
          "carpet": [
           {
            "aaxis": {
             "endlinecolor": "#2a3f5f",
             "gridcolor": "white",
             "linecolor": "white",
             "minorgridcolor": "white",
             "startlinecolor": "#2a3f5f"
            },
            "baxis": {
             "endlinecolor": "#2a3f5f",
             "gridcolor": "white",
             "linecolor": "white",
             "minorgridcolor": "white",
             "startlinecolor": "#2a3f5f"
            },
            "type": "carpet"
           }
          ],
          "choropleth": [
           {
            "colorbar": {
             "outlinewidth": 0,
             "ticks": ""
            },
            "type": "choropleth"
           }
          ],
          "contour": [
           {
            "colorbar": {
             "outlinewidth": 0,
             "ticks": ""
            },
            "colorscale": [
             [
              0,
              "#0d0887"
             ],
             [
              0.1111111111111111,
              "#46039f"
             ],
             [
              0.2222222222222222,
              "#7201a8"
             ],
             [
              0.3333333333333333,
              "#9c179e"
             ],
             [
              0.4444444444444444,
              "#bd3786"
             ],
             [
              0.5555555555555556,
              "#d8576b"
             ],
             [
              0.6666666666666666,
              "#ed7953"
             ],
             [
              0.7777777777777778,
              "#fb9f3a"
             ],
             [
              0.8888888888888888,
              "#fdca26"
             ],
             [
              1,
              "#f0f921"
             ]
            ],
            "type": "contour"
           }
          ],
          "contourcarpet": [
           {
            "colorbar": {
             "outlinewidth": 0,
             "ticks": ""
            },
            "type": "contourcarpet"
           }
          ],
          "heatmap": [
           {
            "colorbar": {
             "outlinewidth": 0,
             "ticks": ""
            },
            "colorscale": [
             [
              0,
              "#0d0887"
             ],
             [
              0.1111111111111111,
              "#46039f"
             ],
             [
              0.2222222222222222,
              "#7201a8"
             ],
             [
              0.3333333333333333,
              "#9c179e"
             ],
             [
              0.4444444444444444,
              "#bd3786"
             ],
             [
              0.5555555555555556,
              "#d8576b"
             ],
             [
              0.6666666666666666,
              "#ed7953"
             ],
             [
              0.7777777777777778,
              "#fb9f3a"
             ],
             [
              0.8888888888888888,
              "#fdca26"
             ],
             [
              1,
              "#f0f921"
             ]
            ],
            "type": "heatmap"
           }
          ],
          "heatmapgl": [
           {
            "colorbar": {
             "outlinewidth": 0,
             "ticks": ""
            },
            "colorscale": [
             [
              0,
              "#0d0887"
             ],
             [
              0.1111111111111111,
              "#46039f"
             ],
             [
              0.2222222222222222,
              "#7201a8"
             ],
             [
              0.3333333333333333,
              "#9c179e"
             ],
             [
              0.4444444444444444,
              "#bd3786"
             ],
             [
              0.5555555555555556,
              "#d8576b"
             ],
             [
              0.6666666666666666,
              "#ed7953"
             ],
             [
              0.7777777777777778,
              "#fb9f3a"
             ],
             [
              0.8888888888888888,
              "#fdca26"
             ],
             [
              1,
              "#f0f921"
             ]
            ],
            "type": "heatmapgl"
           }
          ],
          "histogram": [
           {
            "marker": {
             "pattern": {
              "fillmode": "overlay",
              "size": 10,
              "solidity": 0.2
             }
            },
            "type": "histogram"
           }
          ],
          "histogram2d": [
           {
            "colorbar": {
             "outlinewidth": 0,
             "ticks": ""
            },
            "colorscale": [
             [
              0,
              "#0d0887"
             ],
             [
              0.1111111111111111,
              "#46039f"
             ],
             [
              0.2222222222222222,
              "#7201a8"
             ],
             [
              0.3333333333333333,
              "#9c179e"
             ],
             [
              0.4444444444444444,
              "#bd3786"
             ],
             [
              0.5555555555555556,
              "#d8576b"
             ],
             [
              0.6666666666666666,
              "#ed7953"
             ],
             [
              0.7777777777777778,
              "#fb9f3a"
             ],
             [
              0.8888888888888888,
              "#fdca26"
             ],
             [
              1,
              "#f0f921"
             ]
            ],
            "type": "histogram2d"
           }
          ],
          "histogram2dcontour": [
           {
            "colorbar": {
             "outlinewidth": 0,
             "ticks": ""
            },
            "colorscale": [
             [
              0,
              "#0d0887"
             ],
             [
              0.1111111111111111,
              "#46039f"
             ],
             [
              0.2222222222222222,
              "#7201a8"
             ],
             [
              0.3333333333333333,
              "#9c179e"
             ],
             [
              0.4444444444444444,
              "#bd3786"
             ],
             [
              0.5555555555555556,
              "#d8576b"
             ],
             [
              0.6666666666666666,
              "#ed7953"
             ],
             [
              0.7777777777777778,
              "#fb9f3a"
             ],
             [
              0.8888888888888888,
              "#fdca26"
             ],
             [
              1,
              "#f0f921"
             ]
            ],
            "type": "histogram2dcontour"
           }
          ],
          "mesh3d": [
           {
            "colorbar": {
             "outlinewidth": 0,
             "ticks": ""
            },
            "type": "mesh3d"
           }
          ],
          "parcoords": [
           {
            "line": {
             "colorbar": {
              "outlinewidth": 0,
              "ticks": ""
             }
            },
            "type": "parcoords"
           }
          ],
          "pie": [
           {
            "automargin": true,
            "type": "pie"
           }
          ],
          "scatter": [
           {
            "fillpattern": {
             "fillmode": "overlay",
             "size": 10,
             "solidity": 0.2
            },
            "type": "scatter"
           }
          ],
          "scatter3d": [
           {
            "line": {
             "colorbar": {
              "outlinewidth": 0,
              "ticks": ""
             }
            },
            "marker": {
             "colorbar": {
              "outlinewidth": 0,
              "ticks": ""
             }
            },
            "type": "scatter3d"
           }
          ],
          "scattercarpet": [
           {
            "marker": {
             "colorbar": {
              "outlinewidth": 0,
              "ticks": ""
             }
            },
            "type": "scattercarpet"
           }
          ],
          "scattergeo": [
           {
            "marker": {
             "colorbar": {
              "outlinewidth": 0,
              "ticks": ""
             }
            },
            "type": "scattergeo"
           }
          ],
          "scattergl": [
           {
            "marker": {
             "colorbar": {
              "outlinewidth": 0,
              "ticks": ""
             }
            },
            "type": "scattergl"
           }
          ],
          "scattermapbox": [
           {
            "marker": {
             "colorbar": {
              "outlinewidth": 0,
              "ticks": ""
             }
            },
            "type": "scattermapbox"
           }
          ],
          "scatterpolar": [
           {
            "marker": {
             "colorbar": {
              "outlinewidth": 0,
              "ticks": ""
             }
            },
            "type": "scatterpolar"
           }
          ],
          "scatterpolargl": [
           {
            "marker": {
             "colorbar": {
              "outlinewidth": 0,
              "ticks": ""
             }
            },
            "type": "scatterpolargl"
           }
          ],
          "scatterternary": [
           {
            "marker": {
             "colorbar": {
              "outlinewidth": 0,
              "ticks": ""
             }
            },
            "type": "scatterternary"
           }
          ],
          "surface": [
           {
            "colorbar": {
             "outlinewidth": 0,
             "ticks": ""
            },
            "colorscale": [
             [
              0,
              "#0d0887"
             ],
             [
              0.1111111111111111,
              "#46039f"
             ],
             [
              0.2222222222222222,
              "#7201a8"
             ],
             [
              0.3333333333333333,
              "#9c179e"
             ],
             [
              0.4444444444444444,
              "#bd3786"
             ],
             [
              0.5555555555555556,
              "#d8576b"
             ],
             [
              0.6666666666666666,
              "#ed7953"
             ],
             [
              0.7777777777777778,
              "#fb9f3a"
             ],
             [
              0.8888888888888888,
              "#fdca26"
             ],
             [
              1,
              "#f0f921"
             ]
            ],
            "type": "surface"
           }
          ],
          "table": [
           {
            "cells": {
             "fill": {
              "color": "#EBF0F8"
             },
             "line": {
              "color": "white"
             }
            },
            "header": {
             "fill": {
              "color": "#C8D4E3"
             },
             "line": {
              "color": "white"
             }
            },
            "type": "table"
           }
          ]
         },
         "layout": {
          "annotationdefaults": {
           "arrowcolor": "#2a3f5f",
           "arrowhead": 0,
           "arrowwidth": 1
          },
          "autotypenumbers": "strict",
          "coloraxis": {
           "colorbar": {
            "outlinewidth": 0,
            "ticks": ""
           }
          },
          "colorscale": {
           "diverging": [
            [
             0,
             "#8e0152"
            ],
            [
             0.1,
             "#c51b7d"
            ],
            [
             0.2,
             "#de77ae"
            ],
            [
             0.3,
             "#f1b6da"
            ],
            [
             0.4,
             "#fde0ef"
            ],
            [
             0.5,
             "#f7f7f7"
            ],
            [
             0.6,
             "#e6f5d0"
            ],
            [
             0.7,
             "#b8e186"
            ],
            [
             0.8,
             "#7fbc41"
            ],
            [
             0.9,
             "#4d9221"
            ],
            [
             1,
             "#276419"
            ]
           ],
           "sequential": [
            [
             0,
             "#0d0887"
            ],
            [
             0.1111111111111111,
             "#46039f"
            ],
            [
             0.2222222222222222,
             "#7201a8"
            ],
            [
             0.3333333333333333,
             "#9c179e"
            ],
            [
             0.4444444444444444,
             "#bd3786"
            ],
            [
             0.5555555555555556,
             "#d8576b"
            ],
            [
             0.6666666666666666,
             "#ed7953"
            ],
            [
             0.7777777777777778,
             "#fb9f3a"
            ],
            [
             0.8888888888888888,
             "#fdca26"
            ],
            [
             1,
             "#f0f921"
            ]
           ],
           "sequentialminus": [
            [
             0,
             "#0d0887"
            ],
            [
             0.1111111111111111,
             "#46039f"
            ],
            [
             0.2222222222222222,
             "#7201a8"
            ],
            [
             0.3333333333333333,
             "#9c179e"
            ],
            [
             0.4444444444444444,
             "#bd3786"
            ],
            [
             0.5555555555555556,
             "#d8576b"
            ],
            [
             0.6666666666666666,
             "#ed7953"
            ],
            [
             0.7777777777777778,
             "#fb9f3a"
            ],
            [
             0.8888888888888888,
             "#fdca26"
            ],
            [
             1,
             "#f0f921"
            ]
           ]
          },
          "colorway": [
           "#636efa",
           "#EF553B",
           "#00cc96",
           "#ab63fa",
           "#FFA15A",
           "#19d3f3",
           "#FF6692",
           "#B6E880",
           "#FF97FF",
           "#FECB52"
          ],
          "font": {
           "color": "#2a3f5f"
          },
          "geo": {
           "bgcolor": "white",
           "lakecolor": "white",
           "landcolor": "#E5ECF6",
           "showlakes": true,
           "showland": true,
           "subunitcolor": "white"
          },
          "hoverlabel": {
           "align": "left"
          },
          "hovermode": "closest",
          "mapbox": {
           "style": "light"
          },
          "paper_bgcolor": "white",
          "plot_bgcolor": "#E5ECF6",
          "polar": {
           "angularaxis": {
            "gridcolor": "white",
            "linecolor": "white",
            "ticks": ""
           },
           "bgcolor": "#E5ECF6",
           "radialaxis": {
            "gridcolor": "white",
            "linecolor": "white",
            "ticks": ""
           }
          },
          "scene": {
           "xaxis": {
            "backgroundcolor": "#E5ECF6",
            "gridcolor": "white",
            "gridwidth": 2,
            "linecolor": "white",
            "showbackground": true,
            "ticks": "",
            "zerolinecolor": "white"
           },
           "yaxis": {
            "backgroundcolor": "#E5ECF6",
            "gridcolor": "white",
            "gridwidth": 2,
            "linecolor": "white",
            "showbackground": true,
            "ticks": "",
            "zerolinecolor": "white"
           },
           "zaxis": {
            "backgroundcolor": "#E5ECF6",
            "gridcolor": "white",
            "gridwidth": 2,
            "linecolor": "white",
            "showbackground": true,
            "ticks": "",
            "zerolinecolor": "white"
           }
          },
          "shapedefaults": {
           "line": {
            "color": "#2a3f5f"
           }
          },
          "ternary": {
           "aaxis": {
            "gridcolor": "white",
            "linecolor": "white",
            "ticks": ""
           },
           "baxis": {
            "gridcolor": "white",
            "linecolor": "white",
            "ticks": ""
           },
           "bgcolor": "#E5ECF6",
           "caxis": {
            "gridcolor": "white",
            "linecolor": "white",
            "ticks": ""
           }
          },
          "title": {
           "x": 0.05
          },
          "xaxis": {
           "automargin": true,
           "gridcolor": "white",
           "linecolor": "white",
           "ticks": "",
           "title": {
            "standoff": 15
           },
           "zerolinecolor": "white",
           "zerolinewidth": 2
          },
          "yaxis": {
           "automargin": true,
           "gridcolor": "white",
           "linecolor": "white",
           "ticks": "",
           "title": {
            "standoff": 15
           },
           "zerolinecolor": "white",
           "zerolinewidth": 2
          }
         }
        },
        "xaxis": {
         "anchor": "y",
         "domain": [
          0,
          1
         ],
         "title": {
          "text": "volatility"
         }
        },
        "yaxis": {
         "anchor": "x",
         "domain": [
          0,
          1
         ],
         "title": {
          "text": "cluster"
         }
        }
       }
      }
     },
     "metadata": {},
     "output_type": "display_data"
    }
   ],
   "source": [
    "from sklearn.cluster import KMeans\n",
    "n_clusters = 4\n",
    "X = returns_summary_df[['volatility', 'max_drop']].copy()\n",
    "kmeans = KMeans(n_clusters=n_clusters)\n",
    "kmeans.fit(X)\n",
    "cluster_labels = kmeans.predict(X)\n",
    "X = pd.DataFrame(X)\n",
    "X['cluster'] = cluster_labels\n",
    "fig = px.scatter(X, y=\"cluster\", x=\"volatility\")\n",
    "fig.show()"
   ]
  },
  {
   "cell_type": "markdown",
   "metadata": {},
   "source": [
    "Trying different algorithms to decide which to use for the model"
   ]
  },
  {
   "cell_type": "code",
   "execution_count": null,
   "metadata": {},
   "outputs": [
    {
     "data": {
      "application/vnd.plotly.v1+json": {
       "config": {
        "plotlyServerURL": "https://plot.ly"
       },
       "data": [
        {
         "hovertemplate": "volatility=%{x}<br>cluster=%{y}<extra></extra>",
         "legendgroup": "",
         "marker": {
          "color": "#636efa",
          "symbol": "circle"
         },
         "mode": "markers",
         "name": "",
         "orientation": "v",
         "showlegend": false,
         "type": "scatter",
         "x": [
          0.1917896593931059,
          0.11941895905507346,
          0.19210773521381658,
          0.15325348815285098,
          0.16608885616735422,
          0.2527753967890322,
          0.20839360531563128,
          0.19005988368903032,
          0.18848198513613232,
          0.1578972527228285,
          0.19671411850147016,
          0.17918343520468777,
          0.16265100161144844,
          0.16553984073085554,
          0.04021443962634646,
          0.18740292954978818,
          0.18488274138102487,
          0.09665310601253607,
          0.0026996790602190263,
          0.15313370107182026,
          0.06297513644442349,
          0.1823427816228436,
          0.18858538716307335,
          0.004703616861464034,
          0.21466071200598422,
          0.20064380361765302,
          0.24976062374640404,
          0.24538133864567188,
          0.20331145599380396,
          0.2596643230946964,
          0.07540332478022772,
          0.1783126000445094,
          0.19387566105250723,
          0.20492532101274516,
          0.15451361999126326,
          0.0902314874839562,
          0.03719173127241948,
          0.10128733645500938,
          0.19391555264071117,
          0.19062468059251567,
          0.30462179815231294,
          0.1779564031988625,
          0.02308973991986118,
          0.22331837594394993,
          0.26644848709577806,
          0.23700231706387287,
          0.07420576673816189,
          0.17730783244052317,
          0.25094734136567176,
          0.15985179772614153,
          0.140982578465754,
          0.18102796728159498,
          0.203525764408993,
          0.18790203467120495,
          0.07499140435297541,
          0.06882923785406082,
          0.03398779065587092,
          0.1602985110488605,
          0.05821915071036561,
          0.19364280855208293,
          0.03460830787905545,
          0.20364841609020518,
          0.06633015364453435,
          0.16260648285450816,
          0.25124517464091634,
          0.26861958427284033,
          0.1780097618029757,
          0.07711730552551957,
          0.24943271403800094,
          0.1406838448661344,
          0.07785478063869682,
          0.15828579918548735,
          0.0687173673496371,
          0.1787002343098881,
          0.17555571908870646,
          0.1723865969316379,
          0.21558064240303426,
          0.173887590062346,
          0.031749542813409325,
          0.7457167862481264,
          0.15618887543998516,
          0.23114177205441125,
          0.18373703528604263,
          0.21504825838754055,
          0.2249233288838388,
          0.1427261716232376,
          0.17490508356158155,
          0.16126339637379108,
          0.006912713136821933,
          0.023301339558832068,
          0.0031837002367180616,
          0.23537621058712602,
          0.18681247125247957,
          0.1435197347503011,
          0.06918408363013416,
          0.23051074391253512,
          0.1718745059442474,
          0.1828011511531664,
          0.19163311637593086,
          0.21108037892237397
         ],
         "xaxis": "x",
         "y": [
          0,
          2,
          0,
          0,
          0,
          3,
          0,
          0,
          0,
          0,
          0,
          0,
          0,
          0,
          2,
          0,
          0,
          2,
          2,
          0,
          2,
          0,
          0,
          2,
          3,
          0,
          3,
          3,
          0,
          3,
          2,
          0,
          0,
          0,
          0,
          2,
          2,
          2,
          0,
          0,
          3,
          0,
          2,
          3,
          3,
          3,
          2,
          0,
          3,
          0,
          0,
          0,
          0,
          0,
          2,
          2,
          2,
          0,
          2,
          0,
          2,
          0,
          2,
          0,
          3,
          3,
          0,
          2,
          3,
          0,
          2,
          0,
          2,
          0,
          0,
          0,
          3,
          0,
          2,
          1,
          0,
          3,
          0,
          3,
          3,
          0,
          0,
          0,
          2,
          2,
          2,
          3,
          0,
          0,
          2,
          3,
          0,
          0,
          0,
          0
         ],
         "yaxis": "y"
        }
       ],
       "layout": {
        "legend": {
         "tracegroupgap": 0
        },
        "margin": {
         "t": 60
        },
        "template": {
         "data": {
          "bar": [
           {
            "error_x": {
             "color": "#2a3f5f"
            },
            "error_y": {
             "color": "#2a3f5f"
            },
            "marker": {
             "line": {
              "color": "#E5ECF6",
              "width": 0.5
             },
             "pattern": {
              "fillmode": "overlay",
              "size": 10,
              "solidity": 0.2
             }
            },
            "type": "bar"
           }
          ],
          "barpolar": [
           {
            "marker": {
             "line": {
              "color": "#E5ECF6",
              "width": 0.5
             },
             "pattern": {
              "fillmode": "overlay",
              "size": 10,
              "solidity": 0.2
             }
            },
            "type": "barpolar"
           }
          ],
          "carpet": [
           {
            "aaxis": {
             "endlinecolor": "#2a3f5f",
             "gridcolor": "white",
             "linecolor": "white",
             "minorgridcolor": "white",
             "startlinecolor": "#2a3f5f"
            },
            "baxis": {
             "endlinecolor": "#2a3f5f",
             "gridcolor": "white",
             "linecolor": "white",
             "minorgridcolor": "white",
             "startlinecolor": "#2a3f5f"
            },
            "type": "carpet"
           }
          ],
          "choropleth": [
           {
            "colorbar": {
             "outlinewidth": 0,
             "ticks": ""
            },
            "type": "choropleth"
           }
          ],
          "contour": [
           {
            "colorbar": {
             "outlinewidth": 0,
             "ticks": ""
            },
            "colorscale": [
             [
              0,
              "#0d0887"
             ],
             [
              0.1111111111111111,
              "#46039f"
             ],
             [
              0.2222222222222222,
              "#7201a8"
             ],
             [
              0.3333333333333333,
              "#9c179e"
             ],
             [
              0.4444444444444444,
              "#bd3786"
             ],
             [
              0.5555555555555556,
              "#d8576b"
             ],
             [
              0.6666666666666666,
              "#ed7953"
             ],
             [
              0.7777777777777778,
              "#fb9f3a"
             ],
             [
              0.8888888888888888,
              "#fdca26"
             ],
             [
              1,
              "#f0f921"
             ]
            ],
            "type": "contour"
           }
          ],
          "contourcarpet": [
           {
            "colorbar": {
             "outlinewidth": 0,
             "ticks": ""
            },
            "type": "contourcarpet"
           }
          ],
          "heatmap": [
           {
            "colorbar": {
             "outlinewidth": 0,
             "ticks": ""
            },
            "colorscale": [
             [
              0,
              "#0d0887"
             ],
             [
              0.1111111111111111,
              "#46039f"
             ],
             [
              0.2222222222222222,
              "#7201a8"
             ],
             [
              0.3333333333333333,
              "#9c179e"
             ],
             [
              0.4444444444444444,
              "#bd3786"
             ],
             [
              0.5555555555555556,
              "#d8576b"
             ],
             [
              0.6666666666666666,
              "#ed7953"
             ],
             [
              0.7777777777777778,
              "#fb9f3a"
             ],
             [
              0.8888888888888888,
              "#fdca26"
             ],
             [
              1,
              "#f0f921"
             ]
            ],
            "type": "heatmap"
           }
          ],
          "heatmapgl": [
           {
            "colorbar": {
             "outlinewidth": 0,
             "ticks": ""
            },
            "colorscale": [
             [
              0,
              "#0d0887"
             ],
             [
              0.1111111111111111,
              "#46039f"
             ],
             [
              0.2222222222222222,
              "#7201a8"
             ],
             [
              0.3333333333333333,
              "#9c179e"
             ],
             [
              0.4444444444444444,
              "#bd3786"
             ],
             [
              0.5555555555555556,
              "#d8576b"
             ],
             [
              0.6666666666666666,
              "#ed7953"
             ],
             [
              0.7777777777777778,
              "#fb9f3a"
             ],
             [
              0.8888888888888888,
              "#fdca26"
             ],
             [
              1,
              "#f0f921"
             ]
            ],
            "type": "heatmapgl"
           }
          ],
          "histogram": [
           {
            "marker": {
             "pattern": {
              "fillmode": "overlay",
              "size": 10,
              "solidity": 0.2
             }
            },
            "type": "histogram"
           }
          ],
          "histogram2d": [
           {
            "colorbar": {
             "outlinewidth": 0,
             "ticks": ""
            },
            "colorscale": [
             [
              0,
              "#0d0887"
             ],
             [
              0.1111111111111111,
              "#46039f"
             ],
             [
              0.2222222222222222,
              "#7201a8"
             ],
             [
              0.3333333333333333,
              "#9c179e"
             ],
             [
              0.4444444444444444,
              "#bd3786"
             ],
             [
              0.5555555555555556,
              "#d8576b"
             ],
             [
              0.6666666666666666,
              "#ed7953"
             ],
             [
              0.7777777777777778,
              "#fb9f3a"
             ],
             [
              0.8888888888888888,
              "#fdca26"
             ],
             [
              1,
              "#f0f921"
             ]
            ],
            "type": "histogram2d"
           }
          ],
          "histogram2dcontour": [
           {
            "colorbar": {
             "outlinewidth": 0,
             "ticks": ""
            },
            "colorscale": [
             [
              0,
              "#0d0887"
             ],
             [
              0.1111111111111111,
              "#46039f"
             ],
             [
              0.2222222222222222,
              "#7201a8"
             ],
             [
              0.3333333333333333,
              "#9c179e"
             ],
             [
              0.4444444444444444,
              "#bd3786"
             ],
             [
              0.5555555555555556,
              "#d8576b"
             ],
             [
              0.6666666666666666,
              "#ed7953"
             ],
             [
              0.7777777777777778,
              "#fb9f3a"
             ],
             [
              0.8888888888888888,
              "#fdca26"
             ],
             [
              1,
              "#f0f921"
             ]
            ],
            "type": "histogram2dcontour"
           }
          ],
          "mesh3d": [
           {
            "colorbar": {
             "outlinewidth": 0,
             "ticks": ""
            },
            "type": "mesh3d"
           }
          ],
          "parcoords": [
           {
            "line": {
             "colorbar": {
              "outlinewidth": 0,
              "ticks": ""
             }
            },
            "type": "parcoords"
           }
          ],
          "pie": [
           {
            "automargin": true,
            "type": "pie"
           }
          ],
          "scatter": [
           {
            "fillpattern": {
             "fillmode": "overlay",
             "size": 10,
             "solidity": 0.2
            },
            "type": "scatter"
           }
          ],
          "scatter3d": [
           {
            "line": {
             "colorbar": {
              "outlinewidth": 0,
              "ticks": ""
             }
            },
            "marker": {
             "colorbar": {
              "outlinewidth": 0,
              "ticks": ""
             }
            },
            "type": "scatter3d"
           }
          ],
          "scattercarpet": [
           {
            "marker": {
             "colorbar": {
              "outlinewidth": 0,
              "ticks": ""
             }
            },
            "type": "scattercarpet"
           }
          ],
          "scattergeo": [
           {
            "marker": {
             "colorbar": {
              "outlinewidth": 0,
              "ticks": ""
             }
            },
            "type": "scattergeo"
           }
          ],
          "scattergl": [
           {
            "marker": {
             "colorbar": {
              "outlinewidth": 0,
              "ticks": ""
             }
            },
            "type": "scattergl"
           }
          ],
          "scattermapbox": [
           {
            "marker": {
             "colorbar": {
              "outlinewidth": 0,
              "ticks": ""
             }
            },
            "type": "scattermapbox"
           }
          ],
          "scatterpolar": [
           {
            "marker": {
             "colorbar": {
              "outlinewidth": 0,
              "ticks": ""
             }
            },
            "type": "scatterpolar"
           }
          ],
          "scatterpolargl": [
           {
            "marker": {
             "colorbar": {
              "outlinewidth": 0,
              "ticks": ""
             }
            },
            "type": "scatterpolargl"
           }
          ],
          "scatterternary": [
           {
            "marker": {
             "colorbar": {
              "outlinewidth": 0,
              "ticks": ""
             }
            },
            "type": "scatterternary"
           }
          ],
          "surface": [
           {
            "colorbar": {
             "outlinewidth": 0,
             "ticks": ""
            },
            "colorscale": [
             [
              0,
              "#0d0887"
             ],
             [
              0.1111111111111111,
              "#46039f"
             ],
             [
              0.2222222222222222,
              "#7201a8"
             ],
             [
              0.3333333333333333,
              "#9c179e"
             ],
             [
              0.4444444444444444,
              "#bd3786"
             ],
             [
              0.5555555555555556,
              "#d8576b"
             ],
             [
              0.6666666666666666,
              "#ed7953"
             ],
             [
              0.7777777777777778,
              "#fb9f3a"
             ],
             [
              0.8888888888888888,
              "#fdca26"
             ],
             [
              1,
              "#f0f921"
             ]
            ],
            "type": "surface"
           }
          ],
          "table": [
           {
            "cells": {
             "fill": {
              "color": "#EBF0F8"
             },
             "line": {
              "color": "white"
             }
            },
            "header": {
             "fill": {
              "color": "#C8D4E3"
             },
             "line": {
              "color": "white"
             }
            },
            "type": "table"
           }
          ]
         },
         "layout": {
          "annotationdefaults": {
           "arrowcolor": "#2a3f5f",
           "arrowhead": 0,
           "arrowwidth": 1
          },
          "autotypenumbers": "strict",
          "coloraxis": {
           "colorbar": {
            "outlinewidth": 0,
            "ticks": ""
           }
          },
          "colorscale": {
           "diverging": [
            [
             0,
             "#8e0152"
            ],
            [
             0.1,
             "#c51b7d"
            ],
            [
             0.2,
             "#de77ae"
            ],
            [
             0.3,
             "#f1b6da"
            ],
            [
             0.4,
             "#fde0ef"
            ],
            [
             0.5,
             "#f7f7f7"
            ],
            [
             0.6,
             "#e6f5d0"
            ],
            [
             0.7,
             "#b8e186"
            ],
            [
             0.8,
             "#7fbc41"
            ],
            [
             0.9,
             "#4d9221"
            ],
            [
             1,
             "#276419"
            ]
           ],
           "sequential": [
            [
             0,
             "#0d0887"
            ],
            [
             0.1111111111111111,
             "#46039f"
            ],
            [
             0.2222222222222222,
             "#7201a8"
            ],
            [
             0.3333333333333333,
             "#9c179e"
            ],
            [
             0.4444444444444444,
             "#bd3786"
            ],
            [
             0.5555555555555556,
             "#d8576b"
            ],
            [
             0.6666666666666666,
             "#ed7953"
            ],
            [
             0.7777777777777778,
             "#fb9f3a"
            ],
            [
             0.8888888888888888,
             "#fdca26"
            ],
            [
             1,
             "#f0f921"
            ]
           ],
           "sequentialminus": [
            [
             0,
             "#0d0887"
            ],
            [
             0.1111111111111111,
             "#46039f"
            ],
            [
             0.2222222222222222,
             "#7201a8"
            ],
            [
             0.3333333333333333,
             "#9c179e"
            ],
            [
             0.4444444444444444,
             "#bd3786"
            ],
            [
             0.5555555555555556,
             "#d8576b"
            ],
            [
             0.6666666666666666,
             "#ed7953"
            ],
            [
             0.7777777777777778,
             "#fb9f3a"
            ],
            [
             0.8888888888888888,
             "#fdca26"
            ],
            [
             1,
             "#f0f921"
            ]
           ]
          },
          "colorway": [
           "#636efa",
           "#EF553B",
           "#00cc96",
           "#ab63fa",
           "#FFA15A",
           "#19d3f3",
           "#FF6692",
           "#B6E880",
           "#FF97FF",
           "#FECB52"
          ],
          "font": {
           "color": "#2a3f5f"
          },
          "geo": {
           "bgcolor": "white",
           "lakecolor": "white",
           "landcolor": "#E5ECF6",
           "showlakes": true,
           "showland": true,
           "subunitcolor": "white"
          },
          "hoverlabel": {
           "align": "left"
          },
          "hovermode": "closest",
          "mapbox": {
           "style": "light"
          },
          "paper_bgcolor": "white",
          "plot_bgcolor": "#E5ECF6",
          "polar": {
           "angularaxis": {
            "gridcolor": "white",
            "linecolor": "white",
            "ticks": ""
           },
           "bgcolor": "#E5ECF6",
           "radialaxis": {
            "gridcolor": "white",
            "linecolor": "white",
            "ticks": ""
           }
          },
          "scene": {
           "xaxis": {
            "backgroundcolor": "#E5ECF6",
            "gridcolor": "white",
            "gridwidth": 2,
            "linecolor": "white",
            "showbackground": true,
            "ticks": "",
            "zerolinecolor": "white"
           },
           "yaxis": {
            "backgroundcolor": "#E5ECF6",
            "gridcolor": "white",
            "gridwidth": 2,
            "linecolor": "white",
            "showbackground": true,
            "ticks": "",
            "zerolinecolor": "white"
           },
           "zaxis": {
            "backgroundcolor": "#E5ECF6",
            "gridcolor": "white",
            "gridwidth": 2,
            "linecolor": "white",
            "showbackground": true,
            "ticks": "",
            "zerolinecolor": "white"
           }
          },
          "shapedefaults": {
           "line": {
            "color": "#2a3f5f"
           }
          },
          "ternary": {
           "aaxis": {
            "gridcolor": "white",
            "linecolor": "white",
            "ticks": ""
           },
           "baxis": {
            "gridcolor": "white",
            "linecolor": "white",
            "ticks": ""
           },
           "bgcolor": "#E5ECF6",
           "caxis": {
            "gridcolor": "white",
            "linecolor": "white",
            "ticks": ""
           }
          },
          "title": {
           "x": 0.05
          },
          "xaxis": {
           "automargin": true,
           "gridcolor": "white",
           "linecolor": "white",
           "ticks": "",
           "title": {
            "standoff": 15
           },
           "zerolinecolor": "white",
           "zerolinewidth": 2
          },
          "yaxis": {
           "automargin": true,
           "gridcolor": "white",
           "linecolor": "white",
           "ticks": "",
           "title": {
            "standoff": 15
           },
           "zerolinecolor": "white",
           "zerolinewidth": 2
          }
         }
        },
        "xaxis": {
         "anchor": "y",
         "domain": [
          0,
          1
         ],
         "title": {
          "text": "volatility"
         }
        },
        "yaxis": {
         "anchor": "x",
         "domain": [
          0,
          1
         ],
         "title": {
          "text": "cluster"
         }
        }
       }
      }
     },
     "metadata": {},
     "output_type": "display_data"
    }
   ],
   "source": [
    "from sklearn.mixture import GaussianMixture\n",
    "n_clusters = 4\n",
    "X2 = returns_summary_df[['volatility', 'max_drop']].copy()\n",
    "gmm_model = GaussianMixture(n_components=n_clusters)\n",
    "gmm_model.fit(X2)\n",
    "cluster_labels = gmm_model.predict(X2)\n",
    "X2 = pd.DataFrame(X2)\n",
    "X2['cluster'] = cluster_labels\n",
    "fig = px.scatter(X2, y=\"cluster\", x=\"volatility\")\n",
    "fig.show()"
   ]
  },
  {
   "cell_type": "markdown",
   "metadata": {},
   "source": [
    "Decided to use the K-Means algorithm as it is simpler"
   ]
  },
  {
   "cell_type": "code",
   "execution_count": 96,
   "metadata": {},
   "outputs": [
    {
     "name": "stderr",
     "output_type": "stream",
     "text": [
      "c:\\Users\\dvela\\anaconda3\\envs\\EtfProjEnv\\Lib\\site-packages\\sklearn\\cluster\\_kmeans.py:1412: FutureWarning:\n",
      "\n",
      "The default value of `n_init` will change from 10 to 'auto' in 1.4. Set the value of `n_init` explicitly to suppress the warning\n",
      "\n"
     ]
    }
   ],
   "source": [
    "from sklearn.cluster import KMeans\n",
    "n_clusters = 4\n",
    "X = returns_summary_df[['volatility', 'max_drop']].copy()\n",
    "kmeans = KMeans(n_clusters=n_clusters).fit(X)\n",
    "cluster_labels = kmeans.predict(X)"
   ]
  },
  {
   "cell_type": "markdown",
   "metadata": {},
   "source": [
    "Using a look-up table to ensure we always have the same order of clusters"
   ]
  },
  {
   "cell_type": "code",
   "execution_count": 97,
   "metadata": {},
   "outputs": [
    {
     "data": {
      "text/plain": [
       "array([1, 1, 1, 1, 2, 2, 1, 2, 1, 1, 1, 0, 1, 1, 0, 0, 1, 0, 1, 1, 2, 2,\n",
       "       2, 1, 2, 0, 1, 1, 2, 1, 0, 0, 1, 2, 2, 1, 0, 2, 2, 2, 0, 1, 2, 1,\n",
       "       1, 1, 1, 1, 0, 0, 0, 1, 1, 0, 1, 2, 2, 1, 0, 1, 0, 1, 0, 1, 1, 1,\n",
       "       2, 1, 0, 3, 1, 1, 1, 2, 2, 1, 1, 1, 0, 0, 1, 2, 1, 0, 1, 1, 1, 1,\n",
       "       2], dtype=int64)"
      ]
     },
     "execution_count": 97,
     "metadata": {},
     "output_type": "execute_result"
    }
   ],
   "source": [
    "ordered_clusters = np.argsort(kmeans.cluster_centers_.sum(axis=1))\n",
    "lut = np.zeros_like(ordered_clusters)\n",
    "lut[ordered_clusters] = np.arange(n_clusters)\n",
    "lut[cluster_labels]"
   ]
  },
  {
   "cell_type": "code",
   "execution_count": 1,
   "metadata": {},
   "outputs": [
    {
     "ename": "NameError",
     "evalue": "name 'lut' is not defined",
     "output_type": "error",
     "traceback": [
      "\u001b[1;31m---------------------------------------------------------------------------\u001b[0m",
      "\u001b[1;31mNameError\u001b[0m                                 Traceback (most recent call last)",
      "\u001b[1;32mc:\\Users\\dvela\\OneDrive\\Documents\\GitHub\\ETF-Website\\eft_recommendator\\etfs\\etfutils\\test_jupyter_notebook.ipynb Cell 20\u001b[0m line \u001b[0;36m1\n\u001b[1;32m----> <a href='vscode-notebook-cell:/c%3A/Users/dvela/OneDrive/Documents/GitHub/ETF-Website/eft_recommendator/etfs/etfutils/test_jupyter_notebook.ipynb#X25sZmlsZQ%3D%3D?line=0'>1</a>\u001b[0m returns_summary_df[\u001b[39m\"\u001b[39m\u001b[39mcluster\u001b[39m\u001b[39m\"\u001b[39m] \u001b[39m=\u001b[39m lut[cluster_labels]\n\u001b[0;32m      <a href='vscode-notebook-cell:/c%3A/Users/dvela/OneDrive/Documents/GitHub/ETF-Website/eft_recommendator/etfs/etfutils/test_jupyter_notebook.ipynb#X25sZmlsZQ%3D%3D?line=1'>2</a>\u001b[0m fig \u001b[39m=\u001b[39m px\u001b[39m.\u001b[39mscatter(returns_summary_df, y\u001b[39m=\u001b[39m\u001b[39m\"\u001b[39m\u001b[39mavg_return\u001b[39m\u001b[39m\"\u001b[39m, x\u001b[39m=\u001b[39m\u001b[39m\"\u001b[39m\u001b[39mvolatility\u001b[39m\u001b[39m\"\u001b[39m, color\u001b[39m=\u001b[39m\u001b[39m\"\u001b[39m\u001b[39mcluster\u001b[39m\u001b[39m\"\u001b[39m, hover_data\u001b[39m=\u001b[39m\u001b[39m\"\u001b[39m\u001b[39mticker\u001b[39m\u001b[39m\"\u001b[39m)\n\u001b[0;32m      <a href='vscode-notebook-cell:/c%3A/Users/dvela/OneDrive/Documents/GitHub/ETF-Website/eft_recommendator/etfs/etfutils/test_jupyter_notebook.ipynb#X25sZmlsZQ%3D%3D?line=2'>3</a>\u001b[0m fig\u001b[39m.\u001b[39mshow()\n",
      "\u001b[1;31mNameError\u001b[0m: name 'lut' is not defined"
     ]
    }
   ],
   "source": [
    "returns_summary_df[\"cluster\"] = lut[cluster_labels]\n",
    "fig = px.scatter(returns_summary_df, y=\"avg_return\", x=\"volatility\", color=\"cluster\", hover_data=\"ticker\")\n",
    "fig.show()"
   ]
  },
  {
   "cell_type": "code",
   "execution_count": 100,
   "metadata": {},
   "outputs": [
    {
     "name": "stdout",
     "output_type": "stream",
     "text": [
      "date\n",
      "2022-09-12    100.000000\n",
      "2022-09-13     95.612927\n",
      "2022-09-14     96.000637\n",
      "2022-09-15     94.917147\n",
      "2022-09-16     94.141718\n",
      "                 ...    \n",
      "2023-09-01    111.518272\n",
      "2023-09-05    111.140301\n",
      "2023-09-06    110.395151\n",
      "2023-09-07    110.087377\n",
      "2023-09-08    110.249359\n",
      "Name: VV, Length: 250, dtype: float64\n"
     ]
    },
    {
     "name": "stderr",
     "output_type": "stream",
     "text": [
      "c:\\Users\\dvela\\anaconda3\\envs\\EtfProjEnv\\Lib\\site-packages\\_plotly_utils\\basevalidators.py:105: FutureWarning:\n",
      "\n",
      "The behavior of DatetimeProperties.to_pydatetime is deprecated, in a future version this will return a Series containing python datetime objects instead of an ndarray. To retain the old behavior, call `np.array` on the result\n",
      "\n"
     ]
    },
    {
     "data": {
      "application/vnd.plotly.v1+json": {
       "config": {
        "plotlyServerURL": "https://plot.ly"
       },
       "data": [
        {
         "hovertemplate": "variable=VV<br>date=%{x}<br>value=%{y}<extra></extra>",
         "legendgroup": "VV",
         "line": {
          "color": "#636efa",
          "dash": "solid"
         },
         "marker": {
          "symbol": "circle"
         },
         "mode": "lines",
         "name": "VV",
         "orientation": "v",
         "showlegend": true,
         "type": "scatter",
         "x": [
          "2022-09-12T00:00:00",
          "2022-09-13T00:00:00",
          "2022-09-14T00:00:00",
          "2022-09-15T00:00:00",
          "2022-09-16T00:00:00",
          "2022-09-19T00:00:00",
          "2022-09-20T00:00:00",
          "2022-09-21T00:00:00",
          "2022-09-22T00:00:00",
          "2022-09-23T00:00:00",
          "2022-09-26T00:00:00",
          "2022-09-27T00:00:00",
          "2022-09-28T00:00:00",
          "2022-09-29T00:00:00",
          "2022-09-30T00:00:00",
          "2022-10-03T00:00:00",
          "2022-10-04T00:00:00",
          "2022-10-05T00:00:00",
          "2022-10-06T00:00:00",
          "2022-10-07T00:00:00",
          "2022-10-10T00:00:00",
          "2022-10-11T00:00:00",
          "2022-10-12T00:00:00",
          "2022-10-13T00:00:00",
          "2022-10-14T00:00:00",
          "2022-10-17T00:00:00",
          "2022-10-18T00:00:00",
          "2022-10-19T00:00:00",
          "2022-10-20T00:00:00",
          "2022-10-21T00:00:00",
          "2022-10-24T00:00:00",
          "2022-10-25T00:00:00",
          "2022-10-26T00:00:00",
          "2022-10-27T00:00:00",
          "2022-10-28T00:00:00",
          "2022-10-31T00:00:00",
          "2022-11-01T00:00:00",
          "2022-11-02T00:00:00",
          "2022-11-03T00:00:00",
          "2022-11-04T00:00:00",
          "2022-11-07T00:00:00",
          "2022-11-08T00:00:00",
          "2022-11-09T00:00:00",
          "2022-11-10T00:00:00",
          "2022-11-11T00:00:00",
          "2022-11-14T00:00:00",
          "2022-11-15T00:00:00",
          "2022-11-16T00:00:00",
          "2022-11-17T00:00:00",
          "2022-11-18T00:00:00",
          "2022-11-21T00:00:00",
          "2022-11-22T00:00:00",
          "2022-11-23T00:00:00",
          "2022-11-25T00:00:00",
          "2022-11-28T00:00:00",
          "2022-11-29T00:00:00",
          "2022-11-30T00:00:00",
          "2022-12-01T00:00:00",
          "2022-12-02T00:00:00",
          "2022-12-05T00:00:00",
          "2022-12-06T00:00:00",
          "2022-12-07T00:00:00",
          "2022-12-08T00:00:00",
          "2022-12-09T00:00:00",
          "2022-12-12T00:00:00",
          "2022-12-13T00:00:00",
          "2022-12-14T00:00:00",
          "2022-12-15T00:00:00",
          "2022-12-16T00:00:00",
          "2022-12-19T00:00:00",
          "2022-12-20T00:00:00",
          "2022-12-21T00:00:00",
          "2022-12-22T00:00:00",
          "2022-12-23T00:00:00",
          "2022-12-27T00:00:00",
          "2022-12-28T00:00:00",
          "2022-12-29T00:00:00",
          "2022-12-30T00:00:00",
          "2023-01-03T00:00:00",
          "2023-01-04T00:00:00",
          "2023-01-05T00:00:00",
          "2023-01-06T00:00:00",
          "2023-01-09T00:00:00",
          "2023-01-10T00:00:00",
          "2023-01-11T00:00:00",
          "2023-01-12T00:00:00",
          "2023-01-13T00:00:00",
          "2023-01-17T00:00:00",
          "2023-01-18T00:00:00",
          "2023-01-19T00:00:00",
          "2023-01-20T00:00:00",
          "2023-01-23T00:00:00",
          "2023-01-24T00:00:00",
          "2023-01-25T00:00:00",
          "2023-01-26T00:00:00",
          "2023-01-27T00:00:00",
          "2023-01-30T00:00:00",
          "2023-01-31T00:00:00",
          "2023-02-01T00:00:00",
          "2023-02-02T00:00:00",
          "2023-02-03T00:00:00",
          "2023-02-06T00:00:00",
          "2023-02-07T00:00:00",
          "2023-02-08T00:00:00",
          "2023-02-09T00:00:00",
          "2023-02-10T00:00:00",
          "2023-02-13T00:00:00",
          "2023-02-14T00:00:00",
          "2023-02-15T00:00:00",
          "2023-02-16T00:00:00",
          "2023-02-17T00:00:00",
          "2023-02-21T00:00:00",
          "2023-02-22T00:00:00",
          "2023-02-23T00:00:00",
          "2023-02-24T00:00:00",
          "2023-02-27T00:00:00",
          "2023-02-28T00:00:00",
          "2023-03-01T00:00:00",
          "2023-03-02T00:00:00",
          "2023-03-03T00:00:00",
          "2023-03-06T00:00:00",
          "2023-03-07T00:00:00",
          "2023-03-08T00:00:00",
          "2023-03-09T00:00:00",
          "2023-03-10T00:00:00",
          "2023-03-13T00:00:00",
          "2023-03-14T00:00:00",
          "2023-03-15T00:00:00",
          "2023-03-16T00:00:00",
          "2023-03-17T00:00:00",
          "2023-03-20T00:00:00",
          "2023-03-21T00:00:00",
          "2023-03-22T00:00:00",
          "2023-03-23T00:00:00",
          "2023-03-24T00:00:00",
          "2023-03-27T00:00:00",
          "2023-03-28T00:00:00",
          "2023-03-29T00:00:00",
          "2023-03-30T00:00:00",
          "2023-03-31T00:00:00",
          "2023-04-03T00:00:00",
          "2023-04-04T00:00:00",
          "2023-04-05T00:00:00",
          "2023-04-06T00:00:00",
          "2023-04-10T00:00:00",
          "2023-04-11T00:00:00",
          "2023-04-12T00:00:00",
          "2023-04-13T00:00:00",
          "2023-04-14T00:00:00",
          "2023-04-17T00:00:00",
          "2023-04-18T00:00:00",
          "2023-04-19T00:00:00",
          "2023-04-20T00:00:00",
          "2023-04-21T00:00:00",
          "2023-04-24T00:00:00",
          "2023-04-25T00:00:00",
          "2023-04-26T00:00:00",
          "2023-04-27T00:00:00",
          "2023-04-28T00:00:00",
          "2023-05-01T00:00:00",
          "2023-05-02T00:00:00",
          "2023-05-03T00:00:00",
          "2023-05-04T00:00:00",
          "2023-05-05T00:00:00",
          "2023-05-08T00:00:00",
          "2023-05-09T00:00:00",
          "2023-05-10T00:00:00",
          "2023-05-11T00:00:00",
          "2023-05-12T00:00:00",
          "2023-05-15T00:00:00",
          "2023-05-16T00:00:00",
          "2023-05-17T00:00:00",
          "2023-05-18T00:00:00",
          "2023-05-19T00:00:00",
          "2023-05-22T00:00:00",
          "2023-05-23T00:00:00",
          "2023-05-24T00:00:00",
          "2023-05-25T00:00:00",
          "2023-05-26T00:00:00",
          "2023-05-30T00:00:00",
          "2023-05-31T00:00:00",
          "2023-06-01T00:00:00",
          "2023-06-02T00:00:00",
          "2023-06-05T00:00:00",
          "2023-06-06T00:00:00",
          "2023-06-07T00:00:00",
          "2023-06-08T00:00:00",
          "2023-06-09T00:00:00",
          "2023-06-12T00:00:00",
          "2023-06-13T00:00:00",
          "2023-06-14T00:00:00",
          "2023-06-15T00:00:00",
          "2023-06-16T00:00:00",
          "2023-06-20T00:00:00",
          "2023-06-21T00:00:00",
          "2023-06-22T00:00:00",
          "2023-06-23T00:00:00",
          "2023-06-26T00:00:00",
          "2023-06-27T00:00:00",
          "2023-06-28T00:00:00",
          "2023-06-29T00:00:00",
          "2023-06-30T00:00:00",
          "2023-07-03T00:00:00",
          "2023-07-05T00:00:00",
          "2023-07-06T00:00:00",
          "2023-07-07T00:00:00",
          "2023-07-10T00:00:00",
          "2023-07-11T00:00:00",
          "2023-07-12T00:00:00",
          "2023-07-13T00:00:00",
          "2023-07-14T00:00:00",
          "2023-07-17T00:00:00",
          "2023-07-18T00:00:00",
          "2023-07-19T00:00:00",
          "2023-07-20T00:00:00",
          "2023-07-21T00:00:00",
          "2023-07-24T00:00:00",
          "2023-07-25T00:00:00",
          "2023-07-26T00:00:00",
          "2023-07-27T00:00:00",
          "2023-07-28T00:00:00",
          "2023-07-31T00:00:00",
          "2023-08-01T00:00:00",
          "2023-08-02T00:00:00",
          "2023-08-03T00:00:00",
          "2023-08-04T00:00:00",
          "2023-08-07T00:00:00",
          "2023-08-08T00:00:00",
          "2023-08-09T00:00:00",
          "2023-08-10T00:00:00",
          "2023-08-11T00:00:00",
          "2023-08-14T00:00:00",
          "2023-08-15T00:00:00",
          "2023-08-16T00:00:00",
          "2023-08-17T00:00:00",
          "2023-08-18T00:00:00",
          "2023-08-21T00:00:00",
          "2023-08-22T00:00:00",
          "2023-08-23T00:00:00",
          "2023-08-24T00:00:00",
          "2023-08-25T00:00:00",
          "2023-08-28T00:00:00",
          "2023-08-29T00:00:00",
          "2023-08-30T00:00:00",
          "2023-08-31T00:00:00",
          "2023-09-01T00:00:00",
          "2023-09-05T00:00:00",
          "2023-09-06T00:00:00",
          "2023-09-07T00:00:00",
          "2023-09-08T00:00:00"
         ],
         "xaxis": "x",
         "y": [
          100,
          95.61292720973664,
          96.00063738144982,
          94.91714659089496,
          94.1417180083082,
          94.83748214882907,
          93.78054617229617,
          92.14469382826739,
          91.40642385915847,
          89.72530556780215,
          88.78127904561521,
          88.60526586164028,
          90.37065428573524,
          88.5412640635259,
          87.23456617813115,
          89.46929837534468,
          92.3493792904913,
          92.02937853907986,
          91.14400659989707,
          88.53593332673651,
          87.83190530831804,
          87.18655659038494,
          86.92521866113808,
          89.165281595141,
          87.0798924196346,
          89.36262596543392,
          90.47731845648558,
          89.7946298635455,
          89.10128803618706,
          91.16000704942564,
          92.24804585653035,
          93.8000894608038,
          93.03739862022076,
          92.62138693247735,
          94.75478569572995,
          94.11476771458625,
          93.73075692590004,
          91.32001978387198,
          90.37065428573524,
          91.53334812537267,
          92.39738063907707,
          92.93073444947042,
          90.97334887019277,
          96.09348448018189,
          97.08018985332563,
          96.23215778914982,
          97.10685177643302,
          96.24816647783884,
          95.93881896084578,
          96.34949167263937,
          95.90680982262818,
          97.17618431133678,
          97.82687200521968,
          97.78419315426287,
          96.28549811368542,
          96.0614835811247,
          99.16557902883204,
          99.14957857930344,
          99.0215749830747,
          97.21352418634378,
          95.74681356650268,
          95.57080862168816,
          96.33349122311078,
          95.61880997027393,
          96.98951789294348,
          97.7628702071053,
          97.19752373681519,
          94.72277655751235,
          93.62408451598928,
          92.66405754427375,
          92.88806383767404,
          94.24810204760439,
          92.94224455657209,
          93.44593738946652,
          93.04940307694741,
          91.96701633388835,
          93.53702954702992,
          93.34412608420142,
          92.94760825000316,
          93.6602791476984,
          92.58858683485978,
          94.59264725789619,
          94.65158197235448,
          95.27317719080716,
          96.54312018158451,
          96.90213335756745,
          97.2718656812521,
          97.13790517204231,
          95.57859462828162,
          94.87127918485702,
          96.68243614506493,
          97.9095272625167,
          97.75412845790353,
          97.76484760560523,
          98.94906213225022,
          99.22233860494042,
          97.8880889671133,
          99.38310110298464,
          100.41191682501646,
          102.00337657272183,
          100.84060034148024,
          100.22973250988967,
          101.56398214771679,
          100.49229807403859,
          99.56528541811144,
          99.70996507502291,
          100.96383346382791,
          100.94241164674533,
          101.38179783258998,
          99.96716694574076,
          99.6510221214042,
          97.64160624409716,
          97.51835664342866,
          98.02741316975414,
          96.94500170921383,
          97.32546141976059,
          96.9985892085619,
          96.53776472731387,
          97.32546141976059,
          98.91154923487449,
          98.96513673422255,
          97.42726448586527,
          97.60945704015248,
          95.76615087599988,
          94.2872133421009,
          94.16397198059282,
          95.82508559045819,
          95.25709434967442,
          96.91286074442957,
          95.81437468191692,
          96.65028694112024,
          97.95239561416308,
          96.31271206054069,
          96.52735042854758,
          97.1137397145411,
          97.32354993454399,
          97.10835954278922,
          98.50707237171402,
          99.14725513606602,
          100.49754641922381,
          100.86874531346257,
          100.33077757323605,
          100.04566142702754,
          100.43299259736153,
          100.51368693447948,
          100.51906710623138,
          100.14248804024074,
          101.48740739080702,
          101.256084722957,
          101.57886207142874,
          101.65955640854666,
          101.65955640854666,
          101.07855553346545,
          101.11082832481637,
          101.2022830054381,
          99.57762768041516,
          99.19029651008114,
          101.15386969883149,
          101.96082130917128,
          101.92854027865994,
          100.73425749798615,
          100.09945490538601,
          99.43775145402644,
          101.23994420770133,
          101.31525837306737,
          100.86874531346257,
          101.41747339719286,
          101.2507045512051,
          101.10006798131259,
          101.44437425595231,
          100.7073566392267,
          101.93930062216371,
          102.96681455684976,
          102.77853326301485,
          102.85921936097238,
          101.6972093716495,
          100.9978611963475,
          101.73487057391273,
          103.21965791170736,
          103.24117859871491,
          102.70321085848839,
          103.75762565193386,
          105.27469402023983,
          105.06488380023696,
          105.3284874985983,
          104.82280078888313,
          105.53828947944078,
          105.79652124521068,
          106.66802667741273,
          107.44269725724118,
          107.51801142260722,
          108.88444322102066,
          108.48635170718288,
          107.9806649974677,
          107.34586240486756,
          107.74933409045724,
          106.97719293287665,
          106.49662742327098,
          107.68994622217605,
          107.80873843705929,
          108.15971019247586,
          109.46101966695832,
          109.66080282873448,
          109.45562301688558,
          108.52148348719828,
          108.27850240735908,
          108.58628448387304,
          109.36382229152638,
          110.19536779570902,
          111.15110216484764,
          111.08630116817288,
          111.48047908081288,
          112.36061091397089,
          112.52260104691716,
          111.75585653940927,
          111.83145083622948,
          112.26342177769936,
          112.59819534373736,
          112.58199715435877,
          111.86384721498663,
          112.96537352769293,
          113.17055333954183,
          112.88437434163959,
          111.2752910298036,
          110.92971592445974,
          110.43295222547552,
          111.34008378731795,
          110.881121356324,
          110.05498074137448,
          110.16297141695186,
          109.99017974469973,
          110.62733873717893,
          109.40162355951668,
          108.59707778401848,
          107.70614441155463,
          107.80873843705929,
          108.54308656581,
          108.22990783922333,
          109.47182120626418,
          107.92753065194252,
          108.66727543076597,
          109.38002872006538,
          110.92971592445974,
          111.39947989475955,
          111.31848894786663,
          111.51827210964281,
          111.14030062554177,
          110.3951509574852,
          110.08737712013166,
          110.2493590139175
         ],
         "yaxis": "y"
        }
       ],
       "layout": {
        "legend": {
         "title": {
          "text": "variable"
         },
         "tracegroupgap": 0
        },
        "margin": {
         "t": 60
        },
        "template": {
         "data": {
          "bar": [
           {
            "error_x": {
             "color": "#2a3f5f"
            },
            "error_y": {
             "color": "#2a3f5f"
            },
            "marker": {
             "line": {
              "color": "#E5ECF6",
              "width": 0.5
             },
             "pattern": {
              "fillmode": "overlay",
              "size": 10,
              "solidity": 0.2
             }
            },
            "type": "bar"
           }
          ],
          "barpolar": [
           {
            "marker": {
             "line": {
              "color": "#E5ECF6",
              "width": 0.5
             },
             "pattern": {
              "fillmode": "overlay",
              "size": 10,
              "solidity": 0.2
             }
            },
            "type": "barpolar"
           }
          ],
          "carpet": [
           {
            "aaxis": {
             "endlinecolor": "#2a3f5f",
             "gridcolor": "white",
             "linecolor": "white",
             "minorgridcolor": "white",
             "startlinecolor": "#2a3f5f"
            },
            "baxis": {
             "endlinecolor": "#2a3f5f",
             "gridcolor": "white",
             "linecolor": "white",
             "minorgridcolor": "white",
             "startlinecolor": "#2a3f5f"
            },
            "type": "carpet"
           }
          ],
          "choropleth": [
           {
            "colorbar": {
             "outlinewidth": 0,
             "ticks": ""
            },
            "type": "choropleth"
           }
          ],
          "contour": [
           {
            "colorbar": {
             "outlinewidth": 0,
             "ticks": ""
            },
            "colorscale": [
             [
              0,
              "#0d0887"
             ],
             [
              0.1111111111111111,
              "#46039f"
             ],
             [
              0.2222222222222222,
              "#7201a8"
             ],
             [
              0.3333333333333333,
              "#9c179e"
             ],
             [
              0.4444444444444444,
              "#bd3786"
             ],
             [
              0.5555555555555556,
              "#d8576b"
             ],
             [
              0.6666666666666666,
              "#ed7953"
             ],
             [
              0.7777777777777778,
              "#fb9f3a"
             ],
             [
              0.8888888888888888,
              "#fdca26"
             ],
             [
              1,
              "#f0f921"
             ]
            ],
            "type": "contour"
           }
          ],
          "contourcarpet": [
           {
            "colorbar": {
             "outlinewidth": 0,
             "ticks": ""
            },
            "type": "contourcarpet"
           }
          ],
          "heatmap": [
           {
            "colorbar": {
             "outlinewidth": 0,
             "ticks": ""
            },
            "colorscale": [
             [
              0,
              "#0d0887"
             ],
             [
              0.1111111111111111,
              "#46039f"
             ],
             [
              0.2222222222222222,
              "#7201a8"
             ],
             [
              0.3333333333333333,
              "#9c179e"
             ],
             [
              0.4444444444444444,
              "#bd3786"
             ],
             [
              0.5555555555555556,
              "#d8576b"
             ],
             [
              0.6666666666666666,
              "#ed7953"
             ],
             [
              0.7777777777777778,
              "#fb9f3a"
             ],
             [
              0.8888888888888888,
              "#fdca26"
             ],
             [
              1,
              "#f0f921"
             ]
            ],
            "type": "heatmap"
           }
          ],
          "heatmapgl": [
           {
            "colorbar": {
             "outlinewidth": 0,
             "ticks": ""
            },
            "colorscale": [
             [
              0,
              "#0d0887"
             ],
             [
              0.1111111111111111,
              "#46039f"
             ],
             [
              0.2222222222222222,
              "#7201a8"
             ],
             [
              0.3333333333333333,
              "#9c179e"
             ],
             [
              0.4444444444444444,
              "#bd3786"
             ],
             [
              0.5555555555555556,
              "#d8576b"
             ],
             [
              0.6666666666666666,
              "#ed7953"
             ],
             [
              0.7777777777777778,
              "#fb9f3a"
             ],
             [
              0.8888888888888888,
              "#fdca26"
             ],
             [
              1,
              "#f0f921"
             ]
            ],
            "type": "heatmapgl"
           }
          ],
          "histogram": [
           {
            "marker": {
             "pattern": {
              "fillmode": "overlay",
              "size": 10,
              "solidity": 0.2
             }
            },
            "type": "histogram"
           }
          ],
          "histogram2d": [
           {
            "colorbar": {
             "outlinewidth": 0,
             "ticks": ""
            },
            "colorscale": [
             [
              0,
              "#0d0887"
             ],
             [
              0.1111111111111111,
              "#46039f"
             ],
             [
              0.2222222222222222,
              "#7201a8"
             ],
             [
              0.3333333333333333,
              "#9c179e"
             ],
             [
              0.4444444444444444,
              "#bd3786"
             ],
             [
              0.5555555555555556,
              "#d8576b"
             ],
             [
              0.6666666666666666,
              "#ed7953"
             ],
             [
              0.7777777777777778,
              "#fb9f3a"
             ],
             [
              0.8888888888888888,
              "#fdca26"
             ],
             [
              1,
              "#f0f921"
             ]
            ],
            "type": "histogram2d"
           }
          ],
          "histogram2dcontour": [
           {
            "colorbar": {
             "outlinewidth": 0,
             "ticks": ""
            },
            "colorscale": [
             [
              0,
              "#0d0887"
             ],
             [
              0.1111111111111111,
              "#46039f"
             ],
             [
              0.2222222222222222,
              "#7201a8"
             ],
             [
              0.3333333333333333,
              "#9c179e"
             ],
             [
              0.4444444444444444,
              "#bd3786"
             ],
             [
              0.5555555555555556,
              "#d8576b"
             ],
             [
              0.6666666666666666,
              "#ed7953"
             ],
             [
              0.7777777777777778,
              "#fb9f3a"
             ],
             [
              0.8888888888888888,
              "#fdca26"
             ],
             [
              1,
              "#f0f921"
             ]
            ],
            "type": "histogram2dcontour"
           }
          ],
          "mesh3d": [
           {
            "colorbar": {
             "outlinewidth": 0,
             "ticks": ""
            },
            "type": "mesh3d"
           }
          ],
          "parcoords": [
           {
            "line": {
             "colorbar": {
              "outlinewidth": 0,
              "ticks": ""
             }
            },
            "type": "parcoords"
           }
          ],
          "pie": [
           {
            "automargin": true,
            "type": "pie"
           }
          ],
          "scatter": [
           {
            "fillpattern": {
             "fillmode": "overlay",
             "size": 10,
             "solidity": 0.2
            },
            "type": "scatter"
           }
          ],
          "scatter3d": [
           {
            "line": {
             "colorbar": {
              "outlinewidth": 0,
              "ticks": ""
             }
            },
            "marker": {
             "colorbar": {
              "outlinewidth": 0,
              "ticks": ""
             }
            },
            "type": "scatter3d"
           }
          ],
          "scattercarpet": [
           {
            "marker": {
             "colorbar": {
              "outlinewidth": 0,
              "ticks": ""
             }
            },
            "type": "scattercarpet"
           }
          ],
          "scattergeo": [
           {
            "marker": {
             "colorbar": {
              "outlinewidth": 0,
              "ticks": ""
             }
            },
            "type": "scattergeo"
           }
          ],
          "scattergl": [
           {
            "marker": {
             "colorbar": {
              "outlinewidth": 0,
              "ticks": ""
             }
            },
            "type": "scattergl"
           }
          ],
          "scattermapbox": [
           {
            "marker": {
             "colorbar": {
              "outlinewidth": 0,
              "ticks": ""
             }
            },
            "type": "scattermapbox"
           }
          ],
          "scatterpolar": [
           {
            "marker": {
             "colorbar": {
              "outlinewidth": 0,
              "ticks": ""
             }
            },
            "type": "scatterpolar"
           }
          ],
          "scatterpolargl": [
           {
            "marker": {
             "colorbar": {
              "outlinewidth": 0,
              "ticks": ""
             }
            },
            "type": "scatterpolargl"
           }
          ],
          "scatterternary": [
           {
            "marker": {
             "colorbar": {
              "outlinewidth": 0,
              "ticks": ""
             }
            },
            "type": "scatterternary"
           }
          ],
          "surface": [
           {
            "colorbar": {
             "outlinewidth": 0,
             "ticks": ""
            },
            "colorscale": [
             [
              0,
              "#0d0887"
             ],
             [
              0.1111111111111111,
              "#46039f"
             ],
             [
              0.2222222222222222,
              "#7201a8"
             ],
             [
              0.3333333333333333,
              "#9c179e"
             ],
             [
              0.4444444444444444,
              "#bd3786"
             ],
             [
              0.5555555555555556,
              "#d8576b"
             ],
             [
              0.6666666666666666,
              "#ed7953"
             ],
             [
              0.7777777777777778,
              "#fb9f3a"
             ],
             [
              0.8888888888888888,
              "#fdca26"
             ],
             [
              1,
              "#f0f921"
             ]
            ],
            "type": "surface"
           }
          ],
          "table": [
           {
            "cells": {
             "fill": {
              "color": "#EBF0F8"
             },
             "line": {
              "color": "white"
             }
            },
            "header": {
             "fill": {
              "color": "#C8D4E3"
             },
             "line": {
              "color": "white"
             }
            },
            "type": "table"
           }
          ]
         },
         "layout": {
          "annotationdefaults": {
           "arrowcolor": "#2a3f5f",
           "arrowhead": 0,
           "arrowwidth": 1
          },
          "autotypenumbers": "strict",
          "coloraxis": {
           "colorbar": {
            "outlinewidth": 0,
            "ticks": ""
           }
          },
          "colorscale": {
           "diverging": [
            [
             0,
             "#8e0152"
            ],
            [
             0.1,
             "#c51b7d"
            ],
            [
             0.2,
             "#de77ae"
            ],
            [
             0.3,
             "#f1b6da"
            ],
            [
             0.4,
             "#fde0ef"
            ],
            [
             0.5,
             "#f7f7f7"
            ],
            [
             0.6,
             "#e6f5d0"
            ],
            [
             0.7,
             "#b8e186"
            ],
            [
             0.8,
             "#7fbc41"
            ],
            [
             0.9,
             "#4d9221"
            ],
            [
             1,
             "#276419"
            ]
           ],
           "sequential": [
            [
             0,
             "#0d0887"
            ],
            [
             0.1111111111111111,
             "#46039f"
            ],
            [
             0.2222222222222222,
             "#7201a8"
            ],
            [
             0.3333333333333333,
             "#9c179e"
            ],
            [
             0.4444444444444444,
             "#bd3786"
            ],
            [
             0.5555555555555556,
             "#d8576b"
            ],
            [
             0.6666666666666666,
             "#ed7953"
            ],
            [
             0.7777777777777778,
             "#fb9f3a"
            ],
            [
             0.8888888888888888,
             "#fdca26"
            ],
            [
             1,
             "#f0f921"
            ]
           ],
           "sequentialminus": [
            [
             0,
             "#0d0887"
            ],
            [
             0.1111111111111111,
             "#46039f"
            ],
            [
             0.2222222222222222,
             "#7201a8"
            ],
            [
             0.3333333333333333,
             "#9c179e"
            ],
            [
             0.4444444444444444,
             "#bd3786"
            ],
            [
             0.5555555555555556,
             "#d8576b"
            ],
            [
             0.6666666666666666,
             "#ed7953"
            ],
            [
             0.7777777777777778,
             "#fb9f3a"
            ],
            [
             0.8888888888888888,
             "#fdca26"
            ],
            [
             1,
             "#f0f921"
            ]
           ]
          },
          "colorway": [
           "#636efa",
           "#EF553B",
           "#00cc96",
           "#ab63fa",
           "#FFA15A",
           "#19d3f3",
           "#FF6692",
           "#B6E880",
           "#FF97FF",
           "#FECB52"
          ],
          "font": {
           "color": "#2a3f5f"
          },
          "geo": {
           "bgcolor": "white",
           "lakecolor": "white",
           "landcolor": "#E5ECF6",
           "showlakes": true,
           "showland": true,
           "subunitcolor": "white"
          },
          "hoverlabel": {
           "align": "left"
          },
          "hovermode": "closest",
          "mapbox": {
           "style": "light"
          },
          "paper_bgcolor": "white",
          "plot_bgcolor": "#E5ECF6",
          "polar": {
           "angularaxis": {
            "gridcolor": "white",
            "linecolor": "white",
            "ticks": ""
           },
           "bgcolor": "#E5ECF6",
           "radialaxis": {
            "gridcolor": "white",
            "linecolor": "white",
            "ticks": ""
           }
          },
          "scene": {
           "xaxis": {
            "backgroundcolor": "#E5ECF6",
            "gridcolor": "white",
            "gridwidth": 2,
            "linecolor": "white",
            "showbackground": true,
            "ticks": "",
            "zerolinecolor": "white"
           },
           "yaxis": {
            "backgroundcolor": "#E5ECF6",
            "gridcolor": "white",
            "gridwidth": 2,
            "linecolor": "white",
            "showbackground": true,
            "ticks": "",
            "zerolinecolor": "white"
           },
           "zaxis": {
            "backgroundcolor": "#E5ECF6",
            "gridcolor": "white",
            "gridwidth": 2,
            "linecolor": "white",
            "showbackground": true,
            "ticks": "",
            "zerolinecolor": "white"
           }
          },
          "shapedefaults": {
           "line": {
            "color": "#2a3f5f"
           }
          },
          "ternary": {
           "aaxis": {
            "gridcolor": "white",
            "linecolor": "white",
            "ticks": ""
           },
           "baxis": {
            "gridcolor": "white",
            "linecolor": "white",
            "ticks": ""
           },
           "bgcolor": "#E5ECF6",
           "caxis": {
            "gridcolor": "white",
            "linecolor": "white",
            "ticks": ""
           }
          },
          "title": {
           "x": 0.05
          },
          "xaxis": {
           "automargin": true,
           "gridcolor": "white",
           "linecolor": "white",
           "ticks": "",
           "title": {
            "standoff": 15
           },
           "zerolinecolor": "white",
           "zerolinewidth": 2
          },
          "yaxis": {
           "automargin": true,
           "gridcolor": "white",
           "linecolor": "white",
           "ticks": "",
           "title": {
            "standoff": 15
           },
           "zerolinecolor": "white",
           "zerolinewidth": 2
          }
         }
        },
        "xaxis": {
         "anchor": "y",
         "domain": [
          0,
          1
         ],
         "title": {
          "text": "date"
         }
        },
        "yaxis": {
         "anchor": "x",
         "domain": [
          0,
          1
         ],
         "title": {
          "text": "value"
         }
        }
       }
      }
     },
     "metadata": {},
     "output_type": "display_data"
    }
   ],
   "source": [
    "def create_etf_figure(ticker: str, period: int):\n",
    "    start_date = date(end_date.year - period, end_date.month, end_date.day)\n",
    "    fig_df = new_df.loc[ new_df.index >= pd.to_datetime(start_date) , ticker ]\n",
    "    fig_df = fig_df / fig_df.iloc[0] * 100\n",
    "    fig = px.line(data_frame=fig_df)\n",
    "    print(fig_df)\n",
    "    fig.show()\n",
    "\n",
    "create_etf_figure(\"VV\", 1)"
   ]
  },
  {
   "cell_type": "code",
   "execution_count": 9,
   "metadata": {},
   "outputs": [
    {
     "data": {
      "text/html": [
       "<div>\n",
       "<style scoped>\n",
       "    .dataframe tbody tr th:only-of-type {\n",
       "        vertical-align: middle;\n",
       "    }\n",
       "\n",
       "    .dataframe tbody tr th {\n",
       "        vertical-align: top;\n",
       "    }\n",
       "\n",
       "    .dataframe thead th {\n",
       "        text-align: right;\n",
       "    }\n",
       "</style>\n",
       "<table border=\"1\" class=\"dataframe\">\n",
       "  <thead>\n",
       "    <tr style=\"text-align: right;\">\n",
       "      <th></th>\n",
       "      <th>VUG</th>\n",
       "      <th>DVY</th>\n",
       "      <th>SPYV</th>\n",
       "      <th>BND</th>\n",
       "      <th>MDY</th>\n",
       "      <th>SCHF</th>\n",
       "      <th>VB</th>\n",
       "      <th>VHT</th>\n",
       "      <th>XLK</th>\n",
       "      <th>SCHX</th>\n",
       "      <th>...</th>\n",
       "      <th>ACWI</th>\n",
       "      <th>SCHD</th>\n",
       "      <th>SDY</th>\n",
       "      <th>IJH</th>\n",
       "      <th>IWB</th>\n",
       "      <th>XLI</th>\n",
       "      <th>QQQ</th>\n",
       "      <th>XLF</th>\n",
       "      <th>VV</th>\n",
       "      <th>EEM</th>\n",
       "    </tr>\n",
       "    <tr>\n",
       "      <th>date</th>\n",
       "      <th></th>\n",
       "      <th></th>\n",
       "      <th></th>\n",
       "      <th></th>\n",
       "      <th></th>\n",
       "      <th></th>\n",
       "      <th></th>\n",
       "      <th></th>\n",
       "      <th></th>\n",
       "      <th></th>\n",
       "      <th></th>\n",
       "      <th></th>\n",
       "      <th></th>\n",
       "      <th></th>\n",
       "      <th></th>\n",
       "      <th></th>\n",
       "      <th></th>\n",
       "      <th></th>\n",
       "      <th></th>\n",
       "      <th></th>\n",
       "      <th></th>\n",
       "    </tr>\n",
       "  </thead>\n",
       "  <tbody>\n",
       "    <tr>\n",
       "      <th>2013-01-02</th>\n",
       "      <td>65.341873</td>\n",
       "      <td>40.956379</td>\n",
       "      <td>14.228410</td>\n",
       "      <td>63.249752</td>\n",
       "      <td>167.349487</td>\n",
       "      <td>20.913151</td>\n",
       "      <td>71.433571</td>\n",
       "      <td>64.097969</td>\n",
       "      <td>25.643324</td>\n",
       "      <td>14.425715</td>\n",
       "      <td>...</td>\n",
       "      <td>39.482594</td>\n",
       "      <td>20.959566</td>\n",
       "      <td>40.860195</td>\n",
       "      <td>89.311424</td>\n",
       "      <td>67.700081</td>\n",
       "      <td>31.814758</td>\n",
       "      <td>61.144405</td>\n",
       "      <td>11.225471</td>\n",
       "      <td>55.234715</td>\n",
       "      <td>36.192566</td>\n",
       "    </tr>\n",
       "    <tr>\n",
       "      <th>2013-01-03</th>\n",
       "      <td>65.153976</td>\n",
       "      <td>40.942387</td>\n",
       "      <td>14.268972</td>\n",
       "      <td>63.061295</td>\n",
       "      <td>167.226715</td>\n",
       "      <td>20.700449</td>\n",
       "      <td>71.390633</td>\n",
       "      <td>64.115486</td>\n",
       "      <td>25.479876</td>\n",
       "      <td>14.396654</td>\n",
       "      <td>...</td>\n",
       "      <td>39.313522</td>\n",
       "      <td>20.945089</td>\n",
       "      <td>40.887672</td>\n",
       "      <td>89.345589</td>\n",
       "      <td>67.599892</td>\n",
       "      <td>31.831150</td>\n",
       "      <td>60.825935</td>\n",
       "      <td>11.212165</td>\n",
       "      <td>55.143787</td>\n",
       "      <td>35.936451</td>\n",
       "    </tr>\n",
       "    <tr>\n",
       "      <th>2013-01-04</th>\n",
       "      <td>65.368668</td>\n",
       "      <td>41.180260</td>\n",
       "      <td>14.301808</td>\n",
       "      <td>63.159298</td>\n",
       "      <td>168.392899</td>\n",
       "      <td>20.791605</td>\n",
       "      <td>71.931580</td>\n",
       "      <td>64.474670</td>\n",
       "      <td>25.376646</td>\n",
       "      <td>14.471379</td>\n",
       "      <td>...</td>\n",
       "      <td>39.482594</td>\n",
       "      <td>21.053686</td>\n",
       "      <td>41.183163</td>\n",
       "      <td>89.968811</td>\n",
       "      <td>67.958862</td>\n",
       "      <td>32.068882</td>\n",
       "      <td>60.625748</td>\n",
       "      <td>11.345247</td>\n",
       "      <td>55.424835</td>\n",
       "      <td>36.008480</td>\n",
       "    </tr>\n",
       "    <tr>\n",
       "      <th>2013-01-07</th>\n",
       "      <td>65.243454</td>\n",
       "      <td>40.893417</td>\n",
       "      <td>14.272839</td>\n",
       "      <td>63.114067</td>\n",
       "      <td>167.928162</td>\n",
       "      <td>20.708044</td>\n",
       "      <td>71.716904</td>\n",
       "      <td>64.728714</td>\n",
       "      <td>25.342243</td>\n",
       "      <td>14.434018</td>\n",
       "      <td>...</td>\n",
       "      <td>39.321575</td>\n",
       "      <td>20.981298</td>\n",
       "      <td>40.983871</td>\n",
       "      <td>89.738312</td>\n",
       "      <td>67.733452</td>\n",
       "      <td>31.929523</td>\n",
       "      <td>60.643959</td>\n",
       "      <td>11.318629</td>\n",
       "      <td>55.251247</td>\n",
       "      <td>35.736355</td>\n",
       "    </tr>\n",
       "    <tr>\n",
       "      <th>2013-01-08</th>\n",
       "      <td>65.109253</td>\n",
       "      <td>40.732494</td>\n",
       "      <td>14.207165</td>\n",
       "      <td>63.174339</td>\n",
       "      <td>167.481003</td>\n",
       "      <td>20.556112</td>\n",
       "      <td>71.579514</td>\n",
       "      <td>64.737473</td>\n",
       "      <td>25.247620</td>\n",
       "      <td>14.392502</td>\n",
       "      <td>...</td>\n",
       "      <td>39.128345</td>\n",
       "      <td>20.908897</td>\n",
       "      <td>40.901424</td>\n",
       "      <td>89.482170</td>\n",
       "      <td>67.508087</td>\n",
       "      <td>31.683586</td>\n",
       "      <td>60.525661</td>\n",
       "      <td>11.285361</td>\n",
       "      <td>55.110725</td>\n",
       "      <td>35.416206</td>\n",
       "    </tr>\n",
       "  </tbody>\n",
       "</table>\n",
       "<p>5 rows × 88 columns</p>\n",
       "</div>"
      ],
      "text/plain": [
       "                  VUG        DVY       SPYV        BND         MDY       SCHF  \\\n",
       "date                                                                            \n",
       "2013-01-02  65.341873  40.956379  14.228410  63.249752  167.349487  20.913151   \n",
       "2013-01-03  65.153976  40.942387  14.268972  63.061295  167.226715  20.700449   \n",
       "2013-01-04  65.368668  41.180260  14.301808  63.159298  168.392899  20.791605   \n",
       "2013-01-07  65.243454  40.893417  14.272839  63.114067  167.928162  20.708044   \n",
       "2013-01-08  65.109253  40.732494  14.207165  63.174339  167.481003  20.556112   \n",
       "\n",
       "                   VB        VHT        XLK       SCHX  ...       ACWI  \\\n",
       "date                                                    ...              \n",
       "2013-01-02  71.433571  64.097969  25.643324  14.425715  ...  39.482594   \n",
       "2013-01-03  71.390633  64.115486  25.479876  14.396654  ...  39.313522   \n",
       "2013-01-04  71.931580  64.474670  25.376646  14.471379  ...  39.482594   \n",
       "2013-01-07  71.716904  64.728714  25.342243  14.434018  ...  39.321575   \n",
       "2013-01-08  71.579514  64.737473  25.247620  14.392502  ...  39.128345   \n",
       "\n",
       "                 SCHD        SDY        IJH        IWB        XLI        QQQ  \\\n",
       "date                                                                           \n",
       "2013-01-02  20.959566  40.860195  89.311424  67.700081  31.814758  61.144405   \n",
       "2013-01-03  20.945089  40.887672  89.345589  67.599892  31.831150  60.825935   \n",
       "2013-01-04  21.053686  41.183163  89.968811  67.958862  32.068882  60.625748   \n",
       "2013-01-07  20.981298  40.983871  89.738312  67.733452  31.929523  60.643959   \n",
       "2013-01-08  20.908897  40.901424  89.482170  67.508087  31.683586  60.525661   \n",
       "\n",
       "                  XLF         VV        EEM  \n",
       "date                                         \n",
       "2013-01-02  11.225471  55.234715  36.192566  \n",
       "2013-01-03  11.212165  55.143787  35.936451  \n",
       "2013-01-04  11.345247  55.424835  36.008480  \n",
       "2013-01-07  11.318629  55.251247  35.736355  \n",
       "2013-01-08  11.285361  55.110725  35.416206  \n",
       "\n",
       "[5 rows x 88 columns]"
      ]
     },
     "execution_count": 9,
     "metadata": {},
     "output_type": "execute_result"
    }
   ],
   "source": [
    "output_df = output_df.set_index(\"date\")\n",
    "output_df.dropna(axis=0, how=\"all\", inplace=True)\n",
    "output_df.dropna(axis=1, how=\"any\", inplace=True)\n",
    "output_df.head()"
   ]
  },
  {
   "cell_type": "code",
   "execution_count": 16,
   "metadata": {},
   "outputs": [
    {
     "data": {
      "text/html": [
       "<div>\n",
       "<style scoped>\n",
       "    .dataframe tbody tr th:only-of-type {\n",
       "        vertical-align: middle;\n",
       "    }\n",
       "\n",
       "    .dataframe tbody tr th {\n",
       "        vertical-align: top;\n",
       "    }\n",
       "\n",
       "    .dataframe thead th {\n",
       "        text-align: right;\n",
       "    }\n",
       "</style>\n",
       "<table border=\"1\" class=\"dataframe\">\n",
       "  <thead>\n",
       "    <tr style=\"text-align: right;\">\n",
       "      <th></th>\n",
       "      <th>date</th>\n",
       "      <th>ticker</th>\n",
       "      <th>price</th>\n",
       "    </tr>\n",
       "  </thead>\n",
       "  <tbody>\n",
       "    <tr>\n",
       "      <th>0</th>\n",
       "      <td>2013-01-02</td>\n",
       "      <td>VUG</td>\n",
       "      <td>65.341873</td>\n",
       "    </tr>\n",
       "    <tr>\n",
       "      <th>1</th>\n",
       "      <td>2013-01-03</td>\n",
       "      <td>VUG</td>\n",
       "      <td>65.153976</td>\n",
       "    </tr>\n",
       "    <tr>\n",
       "      <th>2</th>\n",
       "      <td>2013-01-04</td>\n",
       "      <td>VUG</td>\n",
       "      <td>65.368668</td>\n",
       "    </tr>\n",
       "    <tr>\n",
       "      <th>3</th>\n",
       "      <td>2013-01-07</td>\n",
       "      <td>VUG</td>\n",
       "      <td>65.243454</td>\n",
       "    </tr>\n",
       "    <tr>\n",
       "      <th>4</th>\n",
       "      <td>2013-01-08</td>\n",
       "      <td>VUG</td>\n",
       "      <td>65.109253</td>\n",
       "    </tr>\n",
       "  </tbody>\n",
       "</table>\n",
       "</div>"
      ],
      "text/plain": [
       "        date ticker      price\n",
       "0 2013-01-02    VUG  65.341873\n",
       "1 2013-01-03    VUG  65.153976\n",
       "2 2013-01-04    VUG  65.368668\n",
       "3 2013-01-07    VUG  65.243454\n",
       "4 2013-01-08    VUG  65.109253"
      ]
     },
     "execution_count": 16,
     "metadata": {},
     "output_type": "execute_result"
    }
   ],
   "source": [
    "melted_df = pd.melt(output_df.reset_index(), id_vars=\"date\", var_name=\"ticker\", value_name=\"price\")\n",
    "melted_df.head()"
   ]
  },
  {
   "cell_type": "code",
   "execution_count": 17,
   "metadata": {},
   "outputs": [
    {
     "data": {
      "text/plain": [
       "date      datetime64[ns]\n",
       "ticker            object\n",
       "price            float64\n",
       "dtype: object"
      ]
     },
     "execution_count": 17,
     "metadata": {},
     "output_type": "execute_result"
    }
   ],
   "source": [
    "melted_df.dtypes"
   ]
  },
  {
   "cell_type": "code",
   "execution_count": 2,
   "metadata": {},
   "outputs": [
    {
     "ename": "SyntaxError",
     "evalue": "cannot assign to literal here. Maybe you meant '==' instead of '='? (1566458585.py, line 17)",
     "output_type": "error",
     "traceback": [
      "\u001b[1;36m  Cell \u001b[1;32mIn[2], line 17\u001b[1;36m\u001b[0m\n\u001b[1;33m    \"avg_return\" = \"Average Return (Last 10 years)\",\u001b[0m\n\u001b[1;37m    ^\u001b[0m\n\u001b[1;31mSyntaxError\u001b[0m\u001b[1;31m:\u001b[0m cannot assign to literal here. Maybe you meant '==' instead of '='?\n"
     ]
    }
   ],
   "source": [
    "import numpy as np\n",
    "import pandas as pd\n",
    "import sqlite3\n",
    "import plotly.express as px\n",
    "from django.conf import settings\n",
    "from pathlib import Path\n",
    "\n",
    "db_path = Path.joinpath(settings.BASE_DIR, \"db.sqlite3\")\n",
    "\n",
    "def get_etf_summary_graph():\n",
    "    \"\"\" Function that returns a graph of all the Etfs supported on the site \"\"\"\n",
    "    \n",
    "    with sqlite3.connect(db_path) as con:\n",
    "        summary_df = pd.read_sql_table(\"etfs_etf\", con)\n",
    "    fig = px.scatter(summary_df, y=\"avg_return\", x=\"volatility\",\n",
    "                     labels={\n",
    "                        \"avg_return\": \"Average Return (Last 10 years)\",\n",
    "                        \"volatility\": \"Average Volatility (Last 10 years)\"\n",
    "                     })\n",
    "    return fig"
   ]
  },
  {
   "cell_type": "code",
   "execution_count": null,
   "metadata": {},
   "outputs": [],
   "source": []
  }
 ],
 "metadata": {
  "kernelspec": {
   "display_name": "EtfProjEnv",
   "language": "python",
   "name": "python3"
  },
  "language_info": {
   "codemirror_mode": {
    "name": "ipython",
    "version": 3
   },
   "file_extension": ".py",
   "mimetype": "text/x-python",
   "name": "python",
   "nbconvert_exporter": "python",
   "pygments_lexer": "ipython3",
   "version": "3.11.4"
  },
  "orig_nbformat": 4
 },
 "nbformat": 4,
 "nbformat_minor": 2
}
